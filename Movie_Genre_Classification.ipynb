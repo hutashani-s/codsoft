{
  "cells": [
    {
      "cell_type": "markdown",
      "metadata": {
        "id": "view-in-github",
        "colab_type": "text"
      },
      "source": [
        "<a href=\"https://colab.research.google.com/github/hutashani-s/codsoft/blob/main/Movie_Genre_Classification.ipynb\" target=\"_parent\"><img src=\"https://colab.research.google.com/assets/colab-badge.svg\" alt=\"Open In Colab\"/></a>"
      ]
    },
    {
      "cell_type": "markdown",
      "metadata": {
        "id": "FEcGh1ilX3Wt"
      },
      "source": [
        "# Movie Genre Classification\n",
        "\n",
        "**Dataset:** https://www.kaggle.com/datasets/hijest/genre-classification-dataset-imdb/data\n",
        "\n",
        "**Model:** Logistic Regression, Naive Bayes(Multinomial, Bernoulli), Support Vector Machine\n",
        "\n",
        "*Logistic Regression* is a statistical model that predicts the probability of a binary outcome. It uses a logistic function to model the relationship between independent variables and the probability of the dependent variable.\n",
        "\n",
        "*Naive Bayes* is a  family of probabilistic classifiers based on Bayes' theorem. It assumes that features are independent of each other (naive assumption).\n",
        "- *Multinomial*: Used for discrete data\n",
        "- *Gaussian*: Used for continuous data\n",
        "- *Bernoulli*: Used for binary/boolean features\n",
        "\n",
        "*Support Vector Machine(SVM)* is a powerful supervised learning algorithm that finds an optimal hyperplane to separate data points of different classes with the largest margin.\n"
      ]
    },
    {
      "cell_type": "markdown",
      "metadata": {
        "id": "-lvYOEKgSSl5"
      },
      "source": [
        "## Importing Dependencies"
      ]
    },
    {
      "cell_type": "code",
      "execution_count": 3,
      "metadata": {
        "id": "qqOXSE8kRlIA"
      },
      "outputs": [],
      "source": [
        "import pandas as pd\n",
        "import numpy as np\n",
        "import seaborn as sns\n",
        "import matplotlib.pyplot as plt\n",
        "import re\n",
        "import string\n",
        "\n",
        "from sklearn.linear_model import LogisticRegression\n",
        "from sklearn.naive_bayes import GaussianNB, MultinomialNB, BernoulliNB\n",
        "from sklearn.svm import LinearSVC\n",
        "from sklearn.preprocessing import LabelEncoder\n",
        "from sklearn.feature_extraction.text import TfidfVectorizer\n",
        "from sklearn.metrics import classification_report, accuracy_score\n",
        "\n",
        "import nltk\n",
        "from nltk.corpus import stopwords\n",
        "from imblearn.over_sampling import RandomOverSampler"
      ]
    },
    {
      "cell_type": "markdown",
      "metadata": {
        "id": "brS3LyjAUYB0"
      },
      "source": [
        "### Importing Dataset"
      ]
    },
    {
      "cell_type": "code",
      "execution_count": 4,
      "metadata": {
        "id": "kWIZFR-dUcIV",
        "colab": {
          "base_uri": "https://localhost:8080/"
        },
        "outputId": "f24a1392-ad87-4425-9e0c-e62e6220470a"
      },
      "outputs": [
        {
          "output_type": "stream",
          "name": "stdout",
          "text": [
            "Warning: Looks like you're using an outdated `kagglehub` version (installed: 0.3.7), please consider upgrading to the latest version (0.3.8).\n",
            "Path to dataset files: /root/.cache/kagglehub/datasets/hijest/genre-classification-dataset-imdb/versions/1\n"
          ]
        }
      ],
      "source": [
        "import kagglehub\n",
        "path = kagglehub.dataset_download(\"hijest/genre-classification-dataset-imdb\")\n",
        "\n",
        "print(\"Path to dataset files:\", path)"
      ]
    },
    {
      "cell_type": "markdown",
      "metadata": {
        "id": "Q0LuMC74bCFO"
      },
      "source": [
        "### Converting text file into Dataframe"
      ]
    },
    {
      "cell_type": "code",
      "execution_count": 5,
      "metadata": {
        "id": "9X_xJgx_VZ68"
      },
      "outputs": [],
      "source": [
        "train_data = pd.read_csv(path + \"/Genre Classification Dataset/train_data.txt\", sep=':::', header=None, names=['id','title','genre','description'], engine='python')\n",
        "test_data = pd.read_csv(path + \"/Genre Classification Dataset/test_data.txt\", sep=':::', header=None, names=['id','title','description'], engine='python')\n",
        "test_data_solution = pd.read_csv(path + \"/Genre Classification Dataset/test_data_solution.txt\", sep=':::', header=None, names=['id','title','genre','description'], engine='python')"
      ]
    },
    {
      "cell_type": "markdown",
      "metadata": {
        "id": "pWK9ygIQXKAl"
      },
      "source": [
        "## Preprocessing Data"
      ]
    },
    {
      "cell_type": "markdown",
      "metadata": {
        "id": "ar7tUarUbe-H"
      },
      "source": [
        "### Merging test data with solution to get genre"
      ]
    },
    {
      "cell_type": "code",
      "execution_count": 6,
      "metadata": {
        "id": "IxC0XQdVPWIn",
        "colab": {
          "base_uri": "https://localhost:8080/",
          "height": 206
        },
        "outputId": "2181f79f-a06e-4025-d38a-6454ad88ca94"
      },
      "outputs": [
        {
          "output_type": "execute_result",
          "data": {
            "text/plain": [
              "   id                          title  \\\n",
              "0   1          Edgar's Lunch (1998)    \n",
              "1   2      La guerra de papá (1977)    \n",
              "2   3   Off the Beaten Track (2010)    \n",
              "3   4        Meu Amigo Hindu (2015)    \n",
              "4   5             Er nu zhai (1955)    \n",
              "\n",
              "                                         description  \n",
              "0   L.R. Brane loves his life - his car, his apar...  \n",
              "1   Spain, March 1964: Quico is a very naughty ch...  \n",
              "2   One year in the life of Albin and his family ...  \n",
              "3   His father has died, he hasn't spoken with hi...  \n",
              "4   Before he was known internationally as a mart...  "
            ],
            "text/html": [
              "\n",
              "  <div id=\"df-ed4197be-232a-43ef-a719-e84f5faa81fc\" class=\"colab-df-container\">\n",
              "    <div>\n",
              "<style scoped>\n",
              "    .dataframe tbody tr th:only-of-type {\n",
              "        vertical-align: middle;\n",
              "    }\n",
              "\n",
              "    .dataframe tbody tr th {\n",
              "        vertical-align: top;\n",
              "    }\n",
              "\n",
              "    .dataframe thead th {\n",
              "        text-align: right;\n",
              "    }\n",
              "</style>\n",
              "<table border=\"1\" class=\"dataframe\">\n",
              "  <thead>\n",
              "    <tr style=\"text-align: right;\">\n",
              "      <th></th>\n",
              "      <th>id</th>\n",
              "      <th>title</th>\n",
              "      <th>description</th>\n",
              "    </tr>\n",
              "  </thead>\n",
              "  <tbody>\n",
              "    <tr>\n",
              "      <th>0</th>\n",
              "      <td>1</td>\n",
              "      <td>Edgar's Lunch (1998)</td>\n",
              "      <td>L.R. Brane loves his life - his car, his apar...</td>\n",
              "    </tr>\n",
              "    <tr>\n",
              "      <th>1</th>\n",
              "      <td>2</td>\n",
              "      <td>La guerra de papá (1977)</td>\n",
              "      <td>Spain, March 1964: Quico is a very naughty ch...</td>\n",
              "    </tr>\n",
              "    <tr>\n",
              "      <th>2</th>\n",
              "      <td>3</td>\n",
              "      <td>Off the Beaten Track (2010)</td>\n",
              "      <td>One year in the life of Albin and his family ...</td>\n",
              "    </tr>\n",
              "    <tr>\n",
              "      <th>3</th>\n",
              "      <td>4</td>\n",
              "      <td>Meu Amigo Hindu (2015)</td>\n",
              "      <td>His father has died, he hasn't spoken with hi...</td>\n",
              "    </tr>\n",
              "    <tr>\n",
              "      <th>4</th>\n",
              "      <td>5</td>\n",
              "      <td>Er nu zhai (1955)</td>\n",
              "      <td>Before he was known internationally as a mart...</td>\n",
              "    </tr>\n",
              "  </tbody>\n",
              "</table>\n",
              "</div>\n",
              "    <div class=\"colab-df-buttons\">\n",
              "\n",
              "  <div class=\"colab-df-container\">\n",
              "    <button class=\"colab-df-convert\" onclick=\"convertToInteractive('df-ed4197be-232a-43ef-a719-e84f5faa81fc')\"\n",
              "            title=\"Convert this dataframe to an interactive table.\"\n",
              "            style=\"display:none;\">\n",
              "\n",
              "  <svg xmlns=\"http://www.w3.org/2000/svg\" height=\"24px\" viewBox=\"0 -960 960 960\">\n",
              "    <path d=\"M120-120v-720h720v720H120Zm60-500h600v-160H180v160Zm220 220h160v-160H400v160Zm0 220h160v-160H400v160ZM180-400h160v-160H180v160Zm440 0h160v-160H620v160ZM180-180h160v-160H180v160Zm440 0h160v-160H620v160Z\"/>\n",
              "  </svg>\n",
              "    </button>\n",
              "\n",
              "  <style>\n",
              "    .colab-df-container {\n",
              "      display:flex;\n",
              "      gap: 12px;\n",
              "    }\n",
              "\n",
              "    .colab-df-convert {\n",
              "      background-color: #E8F0FE;\n",
              "      border: none;\n",
              "      border-radius: 50%;\n",
              "      cursor: pointer;\n",
              "      display: none;\n",
              "      fill: #1967D2;\n",
              "      height: 32px;\n",
              "      padding: 0 0 0 0;\n",
              "      width: 32px;\n",
              "    }\n",
              "\n",
              "    .colab-df-convert:hover {\n",
              "      background-color: #E2EBFA;\n",
              "      box-shadow: 0px 1px 2px rgba(60, 64, 67, 0.3), 0px 1px 3px 1px rgba(60, 64, 67, 0.15);\n",
              "      fill: #174EA6;\n",
              "    }\n",
              "\n",
              "    .colab-df-buttons div {\n",
              "      margin-bottom: 4px;\n",
              "    }\n",
              "\n",
              "    [theme=dark] .colab-df-convert {\n",
              "      background-color: #3B4455;\n",
              "      fill: #D2E3FC;\n",
              "    }\n",
              "\n",
              "    [theme=dark] .colab-df-convert:hover {\n",
              "      background-color: #434B5C;\n",
              "      box-shadow: 0px 1px 3px 1px rgba(0, 0, 0, 0.15);\n",
              "      filter: drop-shadow(0px 1px 2px rgba(0, 0, 0, 0.3));\n",
              "      fill: #FFFFFF;\n",
              "    }\n",
              "  </style>\n",
              "\n",
              "    <script>\n",
              "      const buttonEl =\n",
              "        document.querySelector('#df-ed4197be-232a-43ef-a719-e84f5faa81fc button.colab-df-convert');\n",
              "      buttonEl.style.display =\n",
              "        google.colab.kernel.accessAllowed ? 'block' : 'none';\n",
              "\n",
              "      async function convertToInteractive(key) {\n",
              "        const element = document.querySelector('#df-ed4197be-232a-43ef-a719-e84f5faa81fc');\n",
              "        const dataTable =\n",
              "          await google.colab.kernel.invokeFunction('convertToInteractive',\n",
              "                                                    [key], {});\n",
              "        if (!dataTable) return;\n",
              "\n",
              "        const docLinkHtml = 'Like what you see? Visit the ' +\n",
              "          '<a target=\"_blank\" href=https://colab.research.google.com/notebooks/data_table.ipynb>data table notebook</a>'\n",
              "          + ' to learn more about interactive tables.';\n",
              "        element.innerHTML = '';\n",
              "        dataTable['output_type'] = 'display_data';\n",
              "        await google.colab.output.renderOutput(dataTable, element);\n",
              "        const docLink = document.createElement('div');\n",
              "        docLink.innerHTML = docLinkHtml;\n",
              "        element.appendChild(docLink);\n",
              "      }\n",
              "    </script>\n",
              "  </div>\n",
              "\n",
              "\n",
              "<div id=\"df-94e0ee9b-9ab4-4f6c-8293-0ff324f29b5d\">\n",
              "  <button class=\"colab-df-quickchart\" onclick=\"quickchart('df-94e0ee9b-9ab4-4f6c-8293-0ff324f29b5d')\"\n",
              "            title=\"Suggest charts\"\n",
              "            style=\"display:none;\">\n",
              "\n",
              "<svg xmlns=\"http://www.w3.org/2000/svg\" height=\"24px\"viewBox=\"0 0 24 24\"\n",
              "     width=\"24px\">\n",
              "    <g>\n",
              "        <path d=\"M19 3H5c-1.1 0-2 .9-2 2v14c0 1.1.9 2 2 2h14c1.1 0 2-.9 2-2V5c0-1.1-.9-2-2-2zM9 17H7v-7h2v7zm4 0h-2V7h2v10zm4 0h-2v-4h2v4z\"/>\n",
              "    </g>\n",
              "</svg>\n",
              "  </button>\n",
              "\n",
              "<style>\n",
              "  .colab-df-quickchart {\n",
              "      --bg-color: #E8F0FE;\n",
              "      --fill-color: #1967D2;\n",
              "      --hover-bg-color: #E2EBFA;\n",
              "      --hover-fill-color: #174EA6;\n",
              "      --disabled-fill-color: #AAA;\n",
              "      --disabled-bg-color: #DDD;\n",
              "  }\n",
              "\n",
              "  [theme=dark] .colab-df-quickchart {\n",
              "      --bg-color: #3B4455;\n",
              "      --fill-color: #D2E3FC;\n",
              "      --hover-bg-color: #434B5C;\n",
              "      --hover-fill-color: #FFFFFF;\n",
              "      --disabled-bg-color: #3B4455;\n",
              "      --disabled-fill-color: #666;\n",
              "  }\n",
              "\n",
              "  .colab-df-quickchart {\n",
              "    background-color: var(--bg-color);\n",
              "    border: none;\n",
              "    border-radius: 50%;\n",
              "    cursor: pointer;\n",
              "    display: none;\n",
              "    fill: var(--fill-color);\n",
              "    height: 32px;\n",
              "    padding: 0;\n",
              "    width: 32px;\n",
              "  }\n",
              "\n",
              "  .colab-df-quickchart:hover {\n",
              "    background-color: var(--hover-bg-color);\n",
              "    box-shadow: 0 1px 2px rgba(60, 64, 67, 0.3), 0 1px 3px 1px rgba(60, 64, 67, 0.15);\n",
              "    fill: var(--button-hover-fill-color);\n",
              "  }\n",
              "\n",
              "  .colab-df-quickchart-complete:disabled,\n",
              "  .colab-df-quickchart-complete:disabled:hover {\n",
              "    background-color: var(--disabled-bg-color);\n",
              "    fill: var(--disabled-fill-color);\n",
              "    box-shadow: none;\n",
              "  }\n",
              "\n",
              "  .colab-df-spinner {\n",
              "    border: 2px solid var(--fill-color);\n",
              "    border-color: transparent;\n",
              "    border-bottom-color: var(--fill-color);\n",
              "    animation:\n",
              "      spin 1s steps(1) infinite;\n",
              "  }\n",
              "\n",
              "  @keyframes spin {\n",
              "    0% {\n",
              "      border-color: transparent;\n",
              "      border-bottom-color: var(--fill-color);\n",
              "      border-left-color: var(--fill-color);\n",
              "    }\n",
              "    20% {\n",
              "      border-color: transparent;\n",
              "      border-left-color: var(--fill-color);\n",
              "      border-top-color: var(--fill-color);\n",
              "    }\n",
              "    30% {\n",
              "      border-color: transparent;\n",
              "      border-left-color: var(--fill-color);\n",
              "      border-top-color: var(--fill-color);\n",
              "      border-right-color: var(--fill-color);\n",
              "    }\n",
              "    40% {\n",
              "      border-color: transparent;\n",
              "      border-right-color: var(--fill-color);\n",
              "      border-top-color: var(--fill-color);\n",
              "    }\n",
              "    60% {\n",
              "      border-color: transparent;\n",
              "      border-right-color: var(--fill-color);\n",
              "    }\n",
              "    80% {\n",
              "      border-color: transparent;\n",
              "      border-right-color: var(--fill-color);\n",
              "      border-bottom-color: var(--fill-color);\n",
              "    }\n",
              "    90% {\n",
              "      border-color: transparent;\n",
              "      border-bottom-color: var(--fill-color);\n",
              "    }\n",
              "  }\n",
              "</style>\n",
              "\n",
              "  <script>\n",
              "    async function quickchart(key) {\n",
              "      const quickchartButtonEl =\n",
              "        document.querySelector('#' + key + ' button');\n",
              "      quickchartButtonEl.disabled = true;  // To prevent multiple clicks.\n",
              "      quickchartButtonEl.classList.add('colab-df-spinner');\n",
              "      try {\n",
              "        const charts = await google.colab.kernel.invokeFunction(\n",
              "            'suggestCharts', [key], {});\n",
              "      } catch (error) {\n",
              "        console.error('Error during call to suggestCharts:', error);\n",
              "      }\n",
              "      quickchartButtonEl.classList.remove('colab-df-spinner');\n",
              "      quickchartButtonEl.classList.add('colab-df-quickchart-complete');\n",
              "    }\n",
              "    (() => {\n",
              "      let quickchartButtonEl =\n",
              "        document.querySelector('#df-94e0ee9b-9ab4-4f6c-8293-0ff324f29b5d button');\n",
              "      quickchartButtonEl.style.display =\n",
              "        google.colab.kernel.accessAllowed ? 'block' : 'none';\n",
              "    })();\n",
              "  </script>\n",
              "</div>\n",
              "\n",
              "    </div>\n",
              "  </div>\n"
            ],
            "application/vnd.google.colaboratory.intrinsic+json": {
              "type": "dataframe",
              "variable_name": "test_data",
              "summary": "{\n  \"name\": \"test_data\",\n  \"rows\": 54200,\n  \"fields\": [\n    {\n      \"column\": \"id\",\n      \"properties\": {\n        \"dtype\": \"number\",\n        \"std\": 15646,\n        \"min\": 1,\n        \"max\": 54200,\n        \"num_unique_values\": 54200,\n        \"samples\": [\n          7723,\n          3190,\n          927\n        ],\n        \"semantic_type\": \"\",\n        \"description\": \"\"\n      }\n    },\n    {\n      \"column\": \"title\",\n      \"properties\": {\n        \"dtype\": \"string\",\n        \"num_unique_values\": 54200,\n        \"samples\": [\n          \" Aranyer Din Ratri (1970) \",\n          \" Giorni e nuvole (2007) \",\n          \" Band of Rebels: White Horses of Camargue (2016) \"\n        ],\n        \"semantic_type\": \"\",\n        \"description\": \"\"\n      }\n    },\n    {\n      \"column\": \"description\",\n      \"properties\": {\n        \"dtype\": \"string\",\n        \"num_unique_values\": 54072,\n        \"samples\": [\n          \" Professional Bar Instructor and Bar Chef Anthony Caporale's unique approach teaches you the bar from both sides! As a customer in front of the bar, you'll learn the correct way to order drinks, the history of alcoholic beverages, and the differences between each type of liquor. From behind the bar, you'll discover the secrets to mixing drinks just like your favorite bartender, including recipes for today's most popular cocktails. The engaging interactive classroom format lets you watch students ask questions, make drinks, and learn as they learn. Art of the Drink is perfect for anyone seeking to increase their drink knowledge, from the uninitiated businessperson who wants to feel more comfortable hosting dinner to the experienced bartender or server looking to increase their sales! Whether you're a novice or a seasoned professional, sit in on this complete class on DVD and learn more about the Art of the Drink!\",\n          \" I'm Okay is a anti-bullying short film. The story evokes around a young teenage girl Becky (played by Wiktoria Wabnyc) who gets harassed by an older female; Jade (played by Bria Olivia-Salmon) for hanging out with her boyfriend. Our aim is to raise awareness regarding bullying and the importance of letting someone know that you are being bullied. It is necessary not to keep it a secret and seek help. Bullying is a significant factor which contributes to the rate of suicide. It can take place in many different forms i.e verbal or physical...it is often hard to identify it.\",\n          \" A young girl who became frustrated in her desire to become an actress starts to work for a telephone-sex company. There she meets a fascinating man who has an obsession for music related with crime.\"\n        ],\n        \"semantic_type\": \"\",\n        \"description\": \"\"\n      }\n    }\n  ]\n}"
            }
          },
          "metadata": {},
          "execution_count": 6
        }
      ],
      "source": [
        "test_data.head()"
      ]
    },
    {
      "cell_type": "code",
      "execution_count": 7,
      "metadata": {
        "id": "6RCuYzPRXRcU"
      },
      "outputs": [],
      "source": [
        "df_test = pd.merge(test_data, test_data_solution[['title', 'genre']], on='title', how='left')"
      ]
    },
    {
      "cell_type": "code",
      "execution_count": 8,
      "metadata": {
        "id": "paiBE4vVP_CW",
        "colab": {
          "base_uri": "https://localhost:8080/",
          "height": 206
        },
        "outputId": "3d29f9ae-de96-408a-d325-7329cc88de63"
      },
      "outputs": [
        {
          "output_type": "execute_result",
          "data": {
            "text/plain": [
              "   id                          title  \\\n",
              "0   1          Edgar's Lunch (1998)    \n",
              "1   2      La guerra de papá (1977)    \n",
              "2   3   Off the Beaten Track (2010)    \n",
              "3   4        Meu Amigo Hindu (2015)    \n",
              "4   5             Er nu zhai (1955)    \n",
              "\n",
              "                                         description          genre  \n",
              "0   L.R. Brane loves his life - his car, his apar...      thriller   \n",
              "1   Spain, March 1964: Quico is a very naughty ch...        comedy   \n",
              "2   One year in the life of Albin and his family ...   documentary   \n",
              "3   His father has died, he hasn't spoken with hi...         drama   \n",
              "4   Before he was known internationally as a mart...         drama   "
            ],
            "text/html": [
              "\n",
              "  <div id=\"df-3dd83489-c4c3-4a86-9090-668400928cdd\" class=\"colab-df-container\">\n",
              "    <div>\n",
              "<style scoped>\n",
              "    .dataframe tbody tr th:only-of-type {\n",
              "        vertical-align: middle;\n",
              "    }\n",
              "\n",
              "    .dataframe tbody tr th {\n",
              "        vertical-align: top;\n",
              "    }\n",
              "\n",
              "    .dataframe thead th {\n",
              "        text-align: right;\n",
              "    }\n",
              "</style>\n",
              "<table border=\"1\" class=\"dataframe\">\n",
              "  <thead>\n",
              "    <tr style=\"text-align: right;\">\n",
              "      <th></th>\n",
              "      <th>id</th>\n",
              "      <th>title</th>\n",
              "      <th>description</th>\n",
              "      <th>genre</th>\n",
              "    </tr>\n",
              "  </thead>\n",
              "  <tbody>\n",
              "    <tr>\n",
              "      <th>0</th>\n",
              "      <td>1</td>\n",
              "      <td>Edgar's Lunch (1998)</td>\n",
              "      <td>L.R. Brane loves his life - his car, his apar...</td>\n",
              "      <td>thriller</td>\n",
              "    </tr>\n",
              "    <tr>\n",
              "      <th>1</th>\n",
              "      <td>2</td>\n",
              "      <td>La guerra de papá (1977)</td>\n",
              "      <td>Spain, March 1964: Quico is a very naughty ch...</td>\n",
              "      <td>comedy</td>\n",
              "    </tr>\n",
              "    <tr>\n",
              "      <th>2</th>\n",
              "      <td>3</td>\n",
              "      <td>Off the Beaten Track (2010)</td>\n",
              "      <td>One year in the life of Albin and his family ...</td>\n",
              "      <td>documentary</td>\n",
              "    </tr>\n",
              "    <tr>\n",
              "      <th>3</th>\n",
              "      <td>4</td>\n",
              "      <td>Meu Amigo Hindu (2015)</td>\n",
              "      <td>His father has died, he hasn't spoken with hi...</td>\n",
              "      <td>drama</td>\n",
              "    </tr>\n",
              "    <tr>\n",
              "      <th>4</th>\n",
              "      <td>5</td>\n",
              "      <td>Er nu zhai (1955)</td>\n",
              "      <td>Before he was known internationally as a mart...</td>\n",
              "      <td>drama</td>\n",
              "    </tr>\n",
              "  </tbody>\n",
              "</table>\n",
              "</div>\n",
              "    <div class=\"colab-df-buttons\">\n",
              "\n",
              "  <div class=\"colab-df-container\">\n",
              "    <button class=\"colab-df-convert\" onclick=\"convertToInteractive('df-3dd83489-c4c3-4a86-9090-668400928cdd')\"\n",
              "            title=\"Convert this dataframe to an interactive table.\"\n",
              "            style=\"display:none;\">\n",
              "\n",
              "  <svg xmlns=\"http://www.w3.org/2000/svg\" height=\"24px\" viewBox=\"0 -960 960 960\">\n",
              "    <path d=\"M120-120v-720h720v720H120Zm60-500h600v-160H180v160Zm220 220h160v-160H400v160Zm0 220h160v-160H400v160ZM180-400h160v-160H180v160Zm440 0h160v-160H620v160ZM180-180h160v-160H180v160Zm440 0h160v-160H620v160Z\"/>\n",
              "  </svg>\n",
              "    </button>\n",
              "\n",
              "  <style>\n",
              "    .colab-df-container {\n",
              "      display:flex;\n",
              "      gap: 12px;\n",
              "    }\n",
              "\n",
              "    .colab-df-convert {\n",
              "      background-color: #E8F0FE;\n",
              "      border: none;\n",
              "      border-radius: 50%;\n",
              "      cursor: pointer;\n",
              "      display: none;\n",
              "      fill: #1967D2;\n",
              "      height: 32px;\n",
              "      padding: 0 0 0 0;\n",
              "      width: 32px;\n",
              "    }\n",
              "\n",
              "    .colab-df-convert:hover {\n",
              "      background-color: #E2EBFA;\n",
              "      box-shadow: 0px 1px 2px rgba(60, 64, 67, 0.3), 0px 1px 3px 1px rgba(60, 64, 67, 0.15);\n",
              "      fill: #174EA6;\n",
              "    }\n",
              "\n",
              "    .colab-df-buttons div {\n",
              "      margin-bottom: 4px;\n",
              "    }\n",
              "\n",
              "    [theme=dark] .colab-df-convert {\n",
              "      background-color: #3B4455;\n",
              "      fill: #D2E3FC;\n",
              "    }\n",
              "\n",
              "    [theme=dark] .colab-df-convert:hover {\n",
              "      background-color: #434B5C;\n",
              "      box-shadow: 0px 1px 3px 1px rgba(0, 0, 0, 0.15);\n",
              "      filter: drop-shadow(0px 1px 2px rgba(0, 0, 0, 0.3));\n",
              "      fill: #FFFFFF;\n",
              "    }\n",
              "  </style>\n",
              "\n",
              "    <script>\n",
              "      const buttonEl =\n",
              "        document.querySelector('#df-3dd83489-c4c3-4a86-9090-668400928cdd button.colab-df-convert');\n",
              "      buttonEl.style.display =\n",
              "        google.colab.kernel.accessAllowed ? 'block' : 'none';\n",
              "\n",
              "      async function convertToInteractive(key) {\n",
              "        const element = document.querySelector('#df-3dd83489-c4c3-4a86-9090-668400928cdd');\n",
              "        const dataTable =\n",
              "          await google.colab.kernel.invokeFunction('convertToInteractive',\n",
              "                                                    [key], {});\n",
              "        if (!dataTable) return;\n",
              "\n",
              "        const docLinkHtml = 'Like what you see? Visit the ' +\n",
              "          '<a target=\"_blank\" href=https://colab.research.google.com/notebooks/data_table.ipynb>data table notebook</a>'\n",
              "          + ' to learn more about interactive tables.';\n",
              "        element.innerHTML = '';\n",
              "        dataTable['output_type'] = 'display_data';\n",
              "        await google.colab.output.renderOutput(dataTable, element);\n",
              "        const docLink = document.createElement('div');\n",
              "        docLink.innerHTML = docLinkHtml;\n",
              "        element.appendChild(docLink);\n",
              "      }\n",
              "    </script>\n",
              "  </div>\n",
              "\n",
              "\n",
              "<div id=\"df-83f91a0e-d6dc-4246-beaf-f353d7390bf5\">\n",
              "  <button class=\"colab-df-quickchart\" onclick=\"quickchart('df-83f91a0e-d6dc-4246-beaf-f353d7390bf5')\"\n",
              "            title=\"Suggest charts\"\n",
              "            style=\"display:none;\">\n",
              "\n",
              "<svg xmlns=\"http://www.w3.org/2000/svg\" height=\"24px\"viewBox=\"0 0 24 24\"\n",
              "     width=\"24px\">\n",
              "    <g>\n",
              "        <path d=\"M19 3H5c-1.1 0-2 .9-2 2v14c0 1.1.9 2 2 2h14c1.1 0 2-.9 2-2V5c0-1.1-.9-2-2-2zM9 17H7v-7h2v7zm4 0h-2V7h2v10zm4 0h-2v-4h2v4z\"/>\n",
              "    </g>\n",
              "</svg>\n",
              "  </button>\n",
              "\n",
              "<style>\n",
              "  .colab-df-quickchart {\n",
              "      --bg-color: #E8F0FE;\n",
              "      --fill-color: #1967D2;\n",
              "      --hover-bg-color: #E2EBFA;\n",
              "      --hover-fill-color: #174EA6;\n",
              "      --disabled-fill-color: #AAA;\n",
              "      --disabled-bg-color: #DDD;\n",
              "  }\n",
              "\n",
              "  [theme=dark] .colab-df-quickchart {\n",
              "      --bg-color: #3B4455;\n",
              "      --fill-color: #D2E3FC;\n",
              "      --hover-bg-color: #434B5C;\n",
              "      --hover-fill-color: #FFFFFF;\n",
              "      --disabled-bg-color: #3B4455;\n",
              "      --disabled-fill-color: #666;\n",
              "  }\n",
              "\n",
              "  .colab-df-quickchart {\n",
              "    background-color: var(--bg-color);\n",
              "    border: none;\n",
              "    border-radius: 50%;\n",
              "    cursor: pointer;\n",
              "    display: none;\n",
              "    fill: var(--fill-color);\n",
              "    height: 32px;\n",
              "    padding: 0;\n",
              "    width: 32px;\n",
              "  }\n",
              "\n",
              "  .colab-df-quickchart:hover {\n",
              "    background-color: var(--hover-bg-color);\n",
              "    box-shadow: 0 1px 2px rgba(60, 64, 67, 0.3), 0 1px 3px 1px rgba(60, 64, 67, 0.15);\n",
              "    fill: var(--button-hover-fill-color);\n",
              "  }\n",
              "\n",
              "  .colab-df-quickchart-complete:disabled,\n",
              "  .colab-df-quickchart-complete:disabled:hover {\n",
              "    background-color: var(--disabled-bg-color);\n",
              "    fill: var(--disabled-fill-color);\n",
              "    box-shadow: none;\n",
              "  }\n",
              "\n",
              "  .colab-df-spinner {\n",
              "    border: 2px solid var(--fill-color);\n",
              "    border-color: transparent;\n",
              "    border-bottom-color: var(--fill-color);\n",
              "    animation:\n",
              "      spin 1s steps(1) infinite;\n",
              "  }\n",
              "\n",
              "  @keyframes spin {\n",
              "    0% {\n",
              "      border-color: transparent;\n",
              "      border-bottom-color: var(--fill-color);\n",
              "      border-left-color: var(--fill-color);\n",
              "    }\n",
              "    20% {\n",
              "      border-color: transparent;\n",
              "      border-left-color: var(--fill-color);\n",
              "      border-top-color: var(--fill-color);\n",
              "    }\n",
              "    30% {\n",
              "      border-color: transparent;\n",
              "      border-left-color: var(--fill-color);\n",
              "      border-top-color: var(--fill-color);\n",
              "      border-right-color: var(--fill-color);\n",
              "    }\n",
              "    40% {\n",
              "      border-color: transparent;\n",
              "      border-right-color: var(--fill-color);\n",
              "      border-top-color: var(--fill-color);\n",
              "    }\n",
              "    60% {\n",
              "      border-color: transparent;\n",
              "      border-right-color: var(--fill-color);\n",
              "    }\n",
              "    80% {\n",
              "      border-color: transparent;\n",
              "      border-right-color: var(--fill-color);\n",
              "      border-bottom-color: var(--fill-color);\n",
              "    }\n",
              "    90% {\n",
              "      border-color: transparent;\n",
              "      border-bottom-color: var(--fill-color);\n",
              "    }\n",
              "  }\n",
              "</style>\n",
              "\n",
              "  <script>\n",
              "    async function quickchart(key) {\n",
              "      const quickchartButtonEl =\n",
              "        document.querySelector('#' + key + ' button');\n",
              "      quickchartButtonEl.disabled = true;  // To prevent multiple clicks.\n",
              "      quickchartButtonEl.classList.add('colab-df-spinner');\n",
              "      try {\n",
              "        const charts = await google.colab.kernel.invokeFunction(\n",
              "            'suggestCharts', [key], {});\n",
              "      } catch (error) {\n",
              "        console.error('Error during call to suggestCharts:', error);\n",
              "      }\n",
              "      quickchartButtonEl.classList.remove('colab-df-spinner');\n",
              "      quickchartButtonEl.classList.add('colab-df-quickchart-complete');\n",
              "    }\n",
              "    (() => {\n",
              "      let quickchartButtonEl =\n",
              "        document.querySelector('#df-83f91a0e-d6dc-4246-beaf-f353d7390bf5 button');\n",
              "      quickchartButtonEl.style.display =\n",
              "        google.colab.kernel.accessAllowed ? 'block' : 'none';\n",
              "    })();\n",
              "  </script>\n",
              "</div>\n",
              "\n",
              "    </div>\n",
              "  </div>\n"
            ],
            "application/vnd.google.colaboratory.intrinsic+json": {
              "type": "dataframe",
              "variable_name": "df_test",
              "summary": "{\n  \"name\": \"df_test\",\n  \"rows\": 54200,\n  \"fields\": [\n    {\n      \"column\": \"id\",\n      \"properties\": {\n        \"dtype\": \"number\",\n        \"std\": 15646,\n        \"min\": 1,\n        \"max\": 54200,\n        \"num_unique_values\": 54200,\n        \"samples\": [\n          7723,\n          3190,\n          927\n        ],\n        \"semantic_type\": \"\",\n        \"description\": \"\"\n      }\n    },\n    {\n      \"column\": \"title\",\n      \"properties\": {\n        \"dtype\": \"string\",\n        \"num_unique_values\": 54200,\n        \"samples\": [\n          \" Aranyer Din Ratri (1970) \",\n          \" Giorni e nuvole (2007) \",\n          \" Band of Rebels: White Horses of Camargue (2016) \"\n        ],\n        \"semantic_type\": \"\",\n        \"description\": \"\"\n      }\n    },\n    {\n      \"column\": \"description\",\n      \"properties\": {\n        \"dtype\": \"string\",\n        \"num_unique_values\": 54072,\n        \"samples\": [\n          \" Professional Bar Instructor and Bar Chef Anthony Caporale's unique approach teaches you the bar from both sides! As a customer in front of the bar, you'll learn the correct way to order drinks, the history of alcoholic beverages, and the differences between each type of liquor. From behind the bar, you'll discover the secrets to mixing drinks just like your favorite bartender, including recipes for today's most popular cocktails. The engaging interactive classroom format lets you watch students ask questions, make drinks, and learn as they learn. Art of the Drink is perfect for anyone seeking to increase their drink knowledge, from the uninitiated businessperson who wants to feel more comfortable hosting dinner to the experienced bartender or server looking to increase their sales! Whether you're a novice or a seasoned professional, sit in on this complete class on DVD and learn more about the Art of the Drink!\",\n          \" I'm Okay is a anti-bullying short film. The story evokes around a young teenage girl Becky (played by Wiktoria Wabnyc) who gets harassed by an older female; Jade (played by Bria Olivia-Salmon) for hanging out with her boyfriend. Our aim is to raise awareness regarding bullying and the importance of letting someone know that you are being bullied. It is necessary not to keep it a secret and seek help. Bullying is a significant factor which contributes to the rate of suicide. It can take place in many different forms i.e verbal or physical...it is often hard to identify it.\",\n          \" A young girl who became frustrated in her desire to become an actress starts to work for a telephone-sex company. There she meets a fascinating man who has an obsession for music related with crime.\"\n        ],\n        \"semantic_type\": \"\",\n        \"description\": \"\"\n      }\n    },\n    {\n      \"column\": \"genre\",\n      \"properties\": {\n        \"dtype\": \"category\",\n        \"num_unique_values\": 27,\n        \"samples\": [\n          \" sport \",\n          \" adult \",\n          \" romance \"\n        ],\n        \"semantic_type\": \"\",\n        \"description\": \"\"\n      }\n    }\n  ]\n}"
            }
          },
          "metadata": {},
          "execution_count": 8
        }
      ],
      "source": [
        "df_test.head()"
      ]
    },
    {
      "cell_type": "markdown",
      "metadata": {
        "id": "qEEvcxiAbg8c"
      },
      "source": [
        "### Displaying the first row of all the dataframes"
      ]
    },
    {
      "cell_type": "code",
      "execution_count": 9,
      "metadata": {
        "id": "eLDYy2i2QYEK",
        "colab": {
          "base_uri": "https://localhost:8080/"
        },
        "outputId": "2813a8be-4a6e-4915-d8a8-375bb966cc6f"
      },
      "outputs": [
        {
          "output_type": "stream",
          "name": "stdout",
          "text": [
            "   id                   title  \\\n",
            "0   1   Edgar's Lunch (1998)    \n",
            "\n",
            "                                         description  \n",
            "0   L.R. Brane loves his life - his car, his apar...  \n",
            "   id                   title       genre  \\\n",
            "0   1   Edgar's Lunch (1998)    thriller    \n",
            "\n",
            "                                         description  \n",
            "0   L.R. Brane loves his life - his car, his apar...  \n",
            "   id                   title  \\\n",
            "0   1   Edgar's Lunch (1998)    \n",
            "\n",
            "                                         description       genre  \n",
            "0   L.R. Brane loves his life - his car, his apar...   thriller   \n"
          ]
        }
      ],
      "source": [
        "print(test_data.head(1))\n",
        "print(test_data_solution.head(1))\n",
        "print(df_test.head(1))"
      ]
    },
    {
      "cell_type": "code",
      "execution_count": 10,
      "metadata": {
        "id": "RchmoUa1Q7up",
        "colab": {
          "base_uri": "https://localhost:8080/"
        },
        "outputId": "3287baa3-0124-435b-f0b5-1dbcc24d7707"
      },
      "outputs": [
        {
          "output_type": "stream",
          "name": "stdout",
          "text": [
            "(54200, 3)\n",
            "(54200, 4)\n",
            "(54200, 4)\n"
          ]
        }
      ],
      "source": [
        "print(test_data.shape)\n",
        "print(test_data_solution.shape)\n",
        "print(df_test.shape)"
      ]
    },
    {
      "cell_type": "code",
      "execution_count": 11,
      "metadata": {
        "id": "UmWW9IxLRLlA",
        "colab": {
          "base_uri": "https://localhost:8080/",
          "height": 300
        },
        "outputId": "fe0d4cf9-a368-4607-f941-946f4bff2b66"
      },
      "outputs": [
        {
          "output_type": "execute_result",
          "data": {
            "text/plain": [
              "                 id\n",
              "count  54214.000000\n",
              "mean   27107.500000\n",
              "std    15650.378084\n",
              "min        1.000000\n",
              "25%    13554.250000\n",
              "50%    27107.500000\n",
              "75%    40660.750000\n",
              "max    54214.000000"
            ],
            "text/html": [
              "\n",
              "  <div id=\"df-039ed5e7-6235-493d-ae53-e4df2d87ec37\" class=\"colab-df-container\">\n",
              "    <div>\n",
              "<style scoped>\n",
              "    .dataframe tbody tr th:only-of-type {\n",
              "        vertical-align: middle;\n",
              "    }\n",
              "\n",
              "    .dataframe tbody tr th {\n",
              "        vertical-align: top;\n",
              "    }\n",
              "\n",
              "    .dataframe thead th {\n",
              "        text-align: right;\n",
              "    }\n",
              "</style>\n",
              "<table border=\"1\" class=\"dataframe\">\n",
              "  <thead>\n",
              "    <tr style=\"text-align: right;\">\n",
              "      <th></th>\n",
              "      <th>id</th>\n",
              "    </tr>\n",
              "  </thead>\n",
              "  <tbody>\n",
              "    <tr>\n",
              "      <th>count</th>\n",
              "      <td>54214.000000</td>\n",
              "    </tr>\n",
              "    <tr>\n",
              "      <th>mean</th>\n",
              "      <td>27107.500000</td>\n",
              "    </tr>\n",
              "    <tr>\n",
              "      <th>std</th>\n",
              "      <td>15650.378084</td>\n",
              "    </tr>\n",
              "    <tr>\n",
              "      <th>min</th>\n",
              "      <td>1.000000</td>\n",
              "    </tr>\n",
              "    <tr>\n",
              "      <th>25%</th>\n",
              "      <td>13554.250000</td>\n",
              "    </tr>\n",
              "    <tr>\n",
              "      <th>50%</th>\n",
              "      <td>27107.500000</td>\n",
              "    </tr>\n",
              "    <tr>\n",
              "      <th>75%</th>\n",
              "      <td>40660.750000</td>\n",
              "    </tr>\n",
              "    <tr>\n",
              "      <th>max</th>\n",
              "      <td>54214.000000</td>\n",
              "    </tr>\n",
              "  </tbody>\n",
              "</table>\n",
              "</div>\n",
              "    <div class=\"colab-df-buttons\">\n",
              "\n",
              "  <div class=\"colab-df-container\">\n",
              "    <button class=\"colab-df-convert\" onclick=\"convertToInteractive('df-039ed5e7-6235-493d-ae53-e4df2d87ec37')\"\n",
              "            title=\"Convert this dataframe to an interactive table.\"\n",
              "            style=\"display:none;\">\n",
              "\n",
              "  <svg xmlns=\"http://www.w3.org/2000/svg\" height=\"24px\" viewBox=\"0 -960 960 960\">\n",
              "    <path d=\"M120-120v-720h720v720H120Zm60-500h600v-160H180v160Zm220 220h160v-160H400v160Zm0 220h160v-160H400v160ZM180-400h160v-160H180v160Zm440 0h160v-160H620v160ZM180-180h160v-160H180v160Zm440 0h160v-160H620v160Z\"/>\n",
              "  </svg>\n",
              "    </button>\n",
              "\n",
              "  <style>\n",
              "    .colab-df-container {\n",
              "      display:flex;\n",
              "      gap: 12px;\n",
              "    }\n",
              "\n",
              "    .colab-df-convert {\n",
              "      background-color: #E8F0FE;\n",
              "      border: none;\n",
              "      border-radius: 50%;\n",
              "      cursor: pointer;\n",
              "      display: none;\n",
              "      fill: #1967D2;\n",
              "      height: 32px;\n",
              "      padding: 0 0 0 0;\n",
              "      width: 32px;\n",
              "    }\n",
              "\n",
              "    .colab-df-convert:hover {\n",
              "      background-color: #E2EBFA;\n",
              "      box-shadow: 0px 1px 2px rgba(60, 64, 67, 0.3), 0px 1px 3px 1px rgba(60, 64, 67, 0.15);\n",
              "      fill: #174EA6;\n",
              "    }\n",
              "\n",
              "    .colab-df-buttons div {\n",
              "      margin-bottom: 4px;\n",
              "    }\n",
              "\n",
              "    [theme=dark] .colab-df-convert {\n",
              "      background-color: #3B4455;\n",
              "      fill: #D2E3FC;\n",
              "    }\n",
              "\n",
              "    [theme=dark] .colab-df-convert:hover {\n",
              "      background-color: #434B5C;\n",
              "      box-shadow: 0px 1px 3px 1px rgba(0, 0, 0, 0.15);\n",
              "      filter: drop-shadow(0px 1px 2px rgba(0, 0, 0, 0.3));\n",
              "      fill: #FFFFFF;\n",
              "    }\n",
              "  </style>\n",
              "\n",
              "    <script>\n",
              "      const buttonEl =\n",
              "        document.querySelector('#df-039ed5e7-6235-493d-ae53-e4df2d87ec37 button.colab-df-convert');\n",
              "      buttonEl.style.display =\n",
              "        google.colab.kernel.accessAllowed ? 'block' : 'none';\n",
              "\n",
              "      async function convertToInteractive(key) {\n",
              "        const element = document.querySelector('#df-039ed5e7-6235-493d-ae53-e4df2d87ec37');\n",
              "        const dataTable =\n",
              "          await google.colab.kernel.invokeFunction('convertToInteractive',\n",
              "                                                    [key], {});\n",
              "        if (!dataTable) return;\n",
              "\n",
              "        const docLinkHtml = 'Like what you see? Visit the ' +\n",
              "          '<a target=\"_blank\" href=https://colab.research.google.com/notebooks/data_table.ipynb>data table notebook</a>'\n",
              "          + ' to learn more about interactive tables.';\n",
              "        element.innerHTML = '';\n",
              "        dataTable['output_type'] = 'display_data';\n",
              "        await google.colab.output.renderOutput(dataTable, element);\n",
              "        const docLink = document.createElement('div');\n",
              "        docLink.innerHTML = docLinkHtml;\n",
              "        element.appendChild(docLink);\n",
              "      }\n",
              "    </script>\n",
              "  </div>\n",
              "\n",
              "\n",
              "<div id=\"df-072e6f9d-5825-45b8-a65d-1ed40e85838f\">\n",
              "  <button class=\"colab-df-quickchart\" onclick=\"quickchart('df-072e6f9d-5825-45b8-a65d-1ed40e85838f')\"\n",
              "            title=\"Suggest charts\"\n",
              "            style=\"display:none;\">\n",
              "\n",
              "<svg xmlns=\"http://www.w3.org/2000/svg\" height=\"24px\"viewBox=\"0 0 24 24\"\n",
              "     width=\"24px\">\n",
              "    <g>\n",
              "        <path d=\"M19 3H5c-1.1 0-2 .9-2 2v14c0 1.1.9 2 2 2h14c1.1 0 2-.9 2-2V5c0-1.1-.9-2-2-2zM9 17H7v-7h2v7zm4 0h-2V7h2v10zm4 0h-2v-4h2v4z\"/>\n",
              "    </g>\n",
              "</svg>\n",
              "  </button>\n",
              "\n",
              "<style>\n",
              "  .colab-df-quickchart {\n",
              "      --bg-color: #E8F0FE;\n",
              "      --fill-color: #1967D2;\n",
              "      --hover-bg-color: #E2EBFA;\n",
              "      --hover-fill-color: #174EA6;\n",
              "      --disabled-fill-color: #AAA;\n",
              "      --disabled-bg-color: #DDD;\n",
              "  }\n",
              "\n",
              "  [theme=dark] .colab-df-quickchart {\n",
              "      --bg-color: #3B4455;\n",
              "      --fill-color: #D2E3FC;\n",
              "      --hover-bg-color: #434B5C;\n",
              "      --hover-fill-color: #FFFFFF;\n",
              "      --disabled-bg-color: #3B4455;\n",
              "      --disabled-fill-color: #666;\n",
              "  }\n",
              "\n",
              "  .colab-df-quickchart {\n",
              "    background-color: var(--bg-color);\n",
              "    border: none;\n",
              "    border-radius: 50%;\n",
              "    cursor: pointer;\n",
              "    display: none;\n",
              "    fill: var(--fill-color);\n",
              "    height: 32px;\n",
              "    padding: 0;\n",
              "    width: 32px;\n",
              "  }\n",
              "\n",
              "  .colab-df-quickchart:hover {\n",
              "    background-color: var(--hover-bg-color);\n",
              "    box-shadow: 0 1px 2px rgba(60, 64, 67, 0.3), 0 1px 3px 1px rgba(60, 64, 67, 0.15);\n",
              "    fill: var(--button-hover-fill-color);\n",
              "  }\n",
              "\n",
              "  .colab-df-quickchart-complete:disabled,\n",
              "  .colab-df-quickchart-complete:disabled:hover {\n",
              "    background-color: var(--disabled-bg-color);\n",
              "    fill: var(--disabled-fill-color);\n",
              "    box-shadow: none;\n",
              "  }\n",
              "\n",
              "  .colab-df-spinner {\n",
              "    border: 2px solid var(--fill-color);\n",
              "    border-color: transparent;\n",
              "    border-bottom-color: var(--fill-color);\n",
              "    animation:\n",
              "      spin 1s steps(1) infinite;\n",
              "  }\n",
              "\n",
              "  @keyframes spin {\n",
              "    0% {\n",
              "      border-color: transparent;\n",
              "      border-bottom-color: var(--fill-color);\n",
              "      border-left-color: var(--fill-color);\n",
              "    }\n",
              "    20% {\n",
              "      border-color: transparent;\n",
              "      border-left-color: var(--fill-color);\n",
              "      border-top-color: var(--fill-color);\n",
              "    }\n",
              "    30% {\n",
              "      border-color: transparent;\n",
              "      border-left-color: var(--fill-color);\n",
              "      border-top-color: var(--fill-color);\n",
              "      border-right-color: var(--fill-color);\n",
              "    }\n",
              "    40% {\n",
              "      border-color: transparent;\n",
              "      border-right-color: var(--fill-color);\n",
              "      border-top-color: var(--fill-color);\n",
              "    }\n",
              "    60% {\n",
              "      border-color: transparent;\n",
              "      border-right-color: var(--fill-color);\n",
              "    }\n",
              "    80% {\n",
              "      border-color: transparent;\n",
              "      border-right-color: var(--fill-color);\n",
              "      border-bottom-color: var(--fill-color);\n",
              "    }\n",
              "    90% {\n",
              "      border-color: transparent;\n",
              "      border-bottom-color: var(--fill-color);\n",
              "    }\n",
              "  }\n",
              "</style>\n",
              "\n",
              "  <script>\n",
              "    async function quickchart(key) {\n",
              "      const quickchartButtonEl =\n",
              "        document.querySelector('#' + key + ' button');\n",
              "      quickchartButtonEl.disabled = true;  // To prevent multiple clicks.\n",
              "      quickchartButtonEl.classList.add('colab-df-spinner');\n",
              "      try {\n",
              "        const charts = await google.colab.kernel.invokeFunction(\n",
              "            'suggestCharts', [key], {});\n",
              "      } catch (error) {\n",
              "        console.error('Error during call to suggestCharts:', error);\n",
              "      }\n",
              "      quickchartButtonEl.classList.remove('colab-df-spinner');\n",
              "      quickchartButtonEl.classList.add('colab-df-quickchart-complete');\n",
              "    }\n",
              "    (() => {\n",
              "      let quickchartButtonEl =\n",
              "        document.querySelector('#df-072e6f9d-5825-45b8-a65d-1ed40e85838f button');\n",
              "      quickchartButtonEl.style.display =\n",
              "        google.colab.kernel.accessAllowed ? 'block' : 'none';\n",
              "    })();\n",
              "  </script>\n",
              "</div>\n",
              "\n",
              "    </div>\n",
              "  </div>\n"
            ],
            "application/vnd.google.colaboratory.intrinsic+json": {
              "type": "dataframe",
              "summary": "{\n  \"name\": \"train_data\",\n  \"rows\": 8,\n  \"fields\": [\n    {\n      \"column\": \"id\",\n      \"properties\": {\n        \"dtype\": \"number\",\n        \"std\": 19538.683100731912,\n        \"min\": 1.0,\n        \"max\": 54214.0,\n        \"num_unique_values\": 6,\n        \"samples\": [\n          54214.0,\n          27107.5,\n          40660.75\n        ],\n        \"semantic_type\": \"\",\n        \"description\": \"\"\n      }\n    }\n  ]\n}"
            }
          },
          "metadata": {},
          "execution_count": 11
        }
      ],
      "source": [
        "train_data.describe()"
      ]
    },
    {
      "cell_type": "markdown",
      "metadata": {
        "id": "ZQahPHTPRkBj"
      },
      "source": [
        "### Changing Display options in Pandas"
      ]
    },
    {
      "cell_type": "code",
      "execution_count": 12,
      "metadata": {
        "id": "Oy-2hCpYRu55"
      },
      "outputs": [],
      "source": [
        "pd.set_option('display.max_colwidth', None)"
      ]
    },
    {
      "cell_type": "markdown",
      "metadata": {
        "id": "--zpIeWOR5bj"
      },
      "source": [
        "### Filtering Rows Based on URL Patterns in the 'description' column"
      ]
    },
    {
      "cell_type": "code",
      "execution_count": 13,
      "metadata": {
        "id": "0jCAhmvrSD8E",
        "colab": {
          "base_uri": "https://localhost:8080/",
          "height": 1000
        },
        "outputId": "7ab94f1d-8c7e-4399-8d1b-49e465dc3726"
      },
      "outputs": [
        {
          "output_type": "execute_result",
          "data": {
            "text/plain": [
              "          id                                     title          genre  \\\n",
              "16974  16975              The Happiness Matrix (2012)    documentary    \n",
              "20748  20749         Blocking the Path to 9/11 (2008)    documentary    \n",
              "26257  26258                 \"Offbeat America\" (2005)     reality-tv    \n",
              "30651  30652                    Hollywood Love (1998)         comedy    \n",
              "33419  33420                          Trust 22 (2007)    documentary    \n",
              "34416  34417                   Voices in Exile (2005)    documentary    \n",
              "37725  37726    A Strange Love Affair with Ego (2015)    documentary    \n",
              "46413  46414   Evil Tales 3: The Final Chapter (2003)         horror    \n",
              "49015  49016               \"The L.A. Hardcore\" (2005)    documentary    \n",
              "\n",
              "                                                                                                                                                                                                                                                                                                                                                                                                                                                                                                                                                                                                                                                                                                                                                                                                                                                                                                                                                                                                                                                                                                                                                                                                                                                                                                                                                                                                                                                                                                                                                                                                                                                                                                                                                                                                                                     description  \n",
              "16974                                                                                                                                                                                                                                                                                                                                                                                                                                                                                                                                                                                                                                                                                                                                                                                                                                                                                                                                                                         Volume 1 of \"The Happiness Matrix\", a 2-hour personal growth DVD, manifesting, in a practical, authentic and engaging manner, a powerful thought process that anyone can use to transform their lives. Sourced from wisdom traditions, \"The Happiness Matrix\" is a thoroughly tested and proven program based on the life-changing MBA course, \"Creativity & Personal Mastery\", taught at some of the world's top ranking business schools. \"The Happiness Matrix\" will open you up to possibilities you never dreamed of and give you the tools you need to begin your transformation. Your internal changes will be rapidly reflected in the world outside and lead you to an immeasurably more fulfilling life. For further information, please email support@TheHappinessMatrix.com To view the Trailer, visit: http://www.thehappinessmatrix.com/trailer.html  \n",
              "20748                                                                                                                                                                                                                                                                                                                                                                                                                                                                                                                                                                                                                                                                                                                                                        There's more to the story of the Clintons and 9/11. Over two nights -- September 10-11, 2006, just four months before Hillary announced the exploratory committee for her original presidential campaign, ABC aired The Path to 9/11, a riveting and factual docudrama. This acclaimed and balanced movie faulted two administrations -- Bill Clinton and George W. Bush. But fairness was not what Hillary wanted. Screenwriter Cyrus Nowrasteh told me he had expected the customary DVD distribution. But the Clintons, fearing the impact of DVD release during her campaign, successfully pressured Disney, which owns ABC, to bury the movie. This is a portion of a news article that originally appeared: http://www.frontpagemag.com/fpm/261541/hillarys-path-back-911-arnold-steinberg This article originally appeared in The Huffington Post http://www.huffingtonpost.com/arnold-steinberg/hillarys-path-back-to-911_b_9039658.html This article was written by Arnold Steinberg from Huffington Post and was legally licensed through the NewsCred publisher network.  \n",
              "26257                                                                                                                                                                                                                                                                                                                                                                                                                                                                                                                                                                                                                                                                                                                                                                                                                                                                                                                                                                                                                                                                                                                                                                                                                                                                                                 High Noon Entertainment hosts visit the Asian style home of Ramblin' \"Doc\" Tommy Scott in the North Georgia mountains. The home is the base camp for Scott's Last Real Old Time Medicine Show. Two segments were included per episode. You will find info about this episode at http://www.georgia.org/SiteCollectionDocuments/Industries/Entertainment/1106FallNewsletter.pdf on page 5.... Unfortunately, I do not know the correct name of the episode and the exact air date, although it aired several times after June of that year.  \n",
              "30651                                                                                                                                                                                                                                                                                    A feminist sex movie??? http:hollywoodlovemovie.wordpress.com is a movie farce about modern love in show biz HOLLYWOOD LOVE is a comedy of dominance and submission, and the duet dance of perpetrator and victim that usually makes both partners losers, sometimes winners, always ridiculous. The sex scenes are athletic and loud, as in real life -- and pointedly in contrast to the soft-focus, lyrical artificial look of most movie love scenes. Adult but not pornographic, not suitable for children, but a great starting point for discussion in a romance. This is shocking comedy about socially relevant issues to stimulate audiences, comedy that is physical without becoming fstupid, farce that is ribald without becoming pornographic. HOLLYWOOD LOVE presents a hyper modern version of the battles of sex and the sexes, influenced by feminism and the sexual revolution and gender-bending. In the story, an innocent young man from the hills brings his guitar to Hollywood, hoping to break into show business, but meets his love match in the confused, mercurial Lana Lovely, and more than his match in their boss, Ms. Pringle, dominant director of music videos and sexual desires. The milieu is music video production in an underground Hollywood of wild rhythms, provocative dance, and freaky passions. The title song expresses the theme: Everybody likes to do things different; Love can be wild or love can be tame. Hollywood love is a different kind of love, Yet really true love remains the same.  \n",
              "33419                                                                                                                                                                                                                                                                                                                                                                                                                                                                                                                                                                                                                                                                                                                                                    In this amazing film full of magic the director will take you into a fabulous journey into the world of manifestation and the power of intention. After quitting his job at Nickelodeon (MTV Networks) Oren Stambouli decided that he was going to follow the flow of live to find people around the world that were pursuing their dreams. He understood that in order for this film to have an effect on people he had to find every day people pursuing \"impossible\" dreams and while shooting the film they will achieve them. On top of that he had an extra challenge; he didn't have a camera, a budget or even a script. But he had a story to tell and nothing was going to stop him from achieving his own dream. Welcome to Trust 22, were believing in a dream is the first step to seeing it, and not the last one. Special interviews with Singer/Songwriter Ricardo Montaner, who has sold more than 22 million albums worldwide. Latin Grammy winner and Grammy Nominee Nestor Torres & Journalist and radio host Eli Bravo. For more info visit http://www.trust22.com  \n",
              "34416                                                                                                                                                                                                                                                                                                                                                                                                                                                                                                                                                                                                                                                                                                                                                                                                                                                                                                                                                                                                                                                                                                                                                                                                     Most film and photography on Tibet is from \"The West\" or \"Western Eye\" looking in. This film 'Voices in Exile' by Tibetan and first time director Tenzin Wangden Andrugtsang, presents the Tibetan Exile Community from the rarely seen Tibetan point of view. Never before seen footage from The Tibetan Exile Community, includes, many interviews, and accounts of life in exile. Shot in black and white and color,and with English Voice Over. Parade Magazine calls The Tibetan Photo Project \"Rewarding\". The film \"Voices In Exile\" is hailed as a mini masterpiece. You can buy your copy at http://www.customflix.com/207375  \n",
              "37725   Ever since she was a young child, filmmaker Ester Gould has been amazed by the sheer self-confidence of her older sister Rowan, whose boundless creativity and natural beauty tended to make everyone around her jealous. She has the world at her feet, and the universe is her playground. But can such a well-developed sense of your own worth go too far? Self-assurance is greatly valued - until it spills over into an unhealthy overestimation of the self. In this incisive, personal visual essay, Gould explores our society's increasing obsession with the self. Thanks in part to social media, the pressure to have a fantastically successful life is ever greater; personal development seems to be the only thing that counts. The filmmaker follows a number of seemingly successful people going out, socializing and participating in the art world, as they reflect in conversations or interviews on the level of self-confidence they display and how this relates to their actual \"self.\" Meanwhile, dreamy reenactments tell the story of the filmmaker's sister Rowan, illustrated by excerpts from correspondence between the sisters. How marvelously everything is going; how fantastically she's doing; she's taking yet another inspirational course; she gets so many invites that there's simply no time. Gould gradually starts to question her interesting sister's stories, which leads to a disconcerting denouement. - See more at: https://www.idfa.nl/industry/tags/project.aspx?id=0EB122D3-2D7D-474F-9AFE-25948DD336E8#sthash.wgBgnTGl.dpuf Admiration for her sister Rowan's self-confidence leads filmmaker Ester Gould on a personal exploration of our narcissistic culture, with disconcerting results. A remarkable journey past four life stages and the fundamental need to be seen.  \n",
              "46413                                                                                                                                                                                                                                                                                                                                                                                                                                                                                                                                                                                                                                                                                                                                                                                                                                                                                                                                       4 short films of horror are related by scantily clad hostess Pamela Sutch. 'The Madness' involves a young man who is suffering some terrible nightmares of his ex-wife, makes repeated visits to a psychiatrist, and ends up a pawn in an evil scheme. 'The Dead Forest' is about a man who attempts to bury his slaughtered newborn deep within a forest to cover his evil deed until he is tormented by the cries of his departed child and a disturbing vision. 'The Nudy Channel' revolves around a cable channel that features a temptress who speaks directly to the viewer, forcing them to commit suicide. 'Demon In The Basement' features a homemade video diary of a doctor revealing the secret monster kept in his basement that has been killing women in his home. Voted one of the Worst Movies of 2003 by Video Graveyard Review Site ( http://www.thevideograveyard.com/2003.html)  \n",
              "49015                                                                                                                                                                                                                                                                                                                                                                                                                                                                                                                                                                                                                                                                                                                                                                                                                                                                                                                                                                                                                                                                                                                                                                                                                                                                                                                                           The L.A. Hardcore is a television series taking us on a journey through Los Angeles in the 1980s, from the perspective of skateboarding and punk rock. The story is told via a series of readings on the era (including Tony Hawk reading from his own biography, Henry Rollins and comedian Bill Hicks!), alongside live music performances from bands like Black Flag and The Circle Jerks. List of books featured in the series is here http://www.extreme.com/news/news_article.asp?SID=394.  "
            ],
            "text/html": [
              "\n",
              "  <div id=\"df-f6057000-d722-409c-b2a4-36a4e533554f\" class=\"colab-df-container\">\n",
              "    <div>\n",
              "<style scoped>\n",
              "    .dataframe tbody tr th:only-of-type {\n",
              "        vertical-align: middle;\n",
              "    }\n",
              "\n",
              "    .dataframe tbody tr th {\n",
              "        vertical-align: top;\n",
              "    }\n",
              "\n",
              "    .dataframe thead th {\n",
              "        text-align: right;\n",
              "    }\n",
              "</style>\n",
              "<table border=\"1\" class=\"dataframe\">\n",
              "  <thead>\n",
              "    <tr style=\"text-align: right;\">\n",
              "      <th></th>\n",
              "      <th>id</th>\n",
              "      <th>title</th>\n",
              "      <th>genre</th>\n",
              "      <th>description</th>\n",
              "    </tr>\n",
              "  </thead>\n",
              "  <tbody>\n",
              "    <tr>\n",
              "      <th>16974</th>\n",
              "      <td>16975</td>\n",
              "      <td>The Happiness Matrix (2012)</td>\n",
              "      <td>documentary</td>\n",
              "      <td>Volume 1 of \"The Happiness Matrix\", a 2-hour personal growth DVD, manifesting, in a practical, authentic and engaging manner, a powerful thought process that anyone can use to transform their lives. Sourced from wisdom traditions, \"The Happiness Matrix\" is a thoroughly tested and proven program based on the life-changing MBA course, \"Creativity &amp; Personal Mastery\", taught at some of the world's top ranking business schools. \"The Happiness Matrix\" will open you up to possibilities you never dreamed of and give you the tools you need to begin your transformation. Your internal changes will be rapidly reflected in the world outside and lead you to an immeasurably more fulfilling life. For further information, please email support@TheHappinessMatrix.com To view the Trailer, visit: http://www.thehappinessmatrix.com/trailer.html</td>\n",
              "    </tr>\n",
              "    <tr>\n",
              "      <th>20748</th>\n",
              "      <td>20749</td>\n",
              "      <td>Blocking the Path to 9/11 (2008)</td>\n",
              "      <td>documentary</td>\n",
              "      <td>There's more to the story of the Clintons and 9/11. Over two nights -- September 10-11, 2006, just four months before Hillary announced the exploratory committee for her original presidential campaign, ABC aired The Path to 9/11, a riveting and factual docudrama. This acclaimed and balanced movie faulted two administrations -- Bill Clinton and George W. Bush. But fairness was not what Hillary wanted. Screenwriter Cyrus Nowrasteh told me he had expected the customary DVD distribution. But the Clintons, fearing the impact of DVD release during her campaign, successfully pressured Disney, which owns ABC, to bury the movie. This is a portion of a news article that originally appeared: http://www.frontpagemag.com/fpm/261541/hillarys-path-back-911-arnold-steinberg This article originally appeared in The Huffington Post http://www.huffingtonpost.com/arnold-steinberg/hillarys-path-back-to-911_b_9039658.html This article was written by Arnold Steinberg from Huffington Post and was legally licensed through the NewsCred publisher network.</td>\n",
              "    </tr>\n",
              "    <tr>\n",
              "      <th>26257</th>\n",
              "      <td>26258</td>\n",
              "      <td>\"Offbeat America\" (2005)</td>\n",
              "      <td>reality-tv</td>\n",
              "      <td>High Noon Entertainment hosts visit the Asian style home of Ramblin' \"Doc\" Tommy Scott in the North Georgia mountains. The home is the base camp for Scott's Last Real Old Time Medicine Show. Two segments were included per episode. You will find info about this episode at http://www.georgia.org/SiteCollectionDocuments/Industries/Entertainment/1106FallNewsletter.pdf on page 5.... Unfortunately, I do not know the correct name of the episode and the exact air date, although it aired several times after June of that year.</td>\n",
              "    </tr>\n",
              "    <tr>\n",
              "      <th>30651</th>\n",
              "      <td>30652</td>\n",
              "      <td>Hollywood Love (1998)</td>\n",
              "      <td>comedy</td>\n",
              "      <td>A feminist sex movie??? http:hollywoodlovemovie.wordpress.com is a movie farce about modern love in show biz HOLLYWOOD LOVE is a comedy of dominance and submission, and the duet dance of perpetrator and victim that usually makes both partners losers, sometimes winners, always ridiculous. The sex scenes are athletic and loud, as in real life -- and pointedly in contrast to the soft-focus, lyrical artificial look of most movie love scenes. Adult but not pornographic, not suitable for children, but a great starting point for discussion in a romance. This is shocking comedy about socially relevant issues to stimulate audiences, comedy that is physical without becoming fstupid, farce that is ribald without becoming pornographic. HOLLYWOOD LOVE presents a hyper modern version of the battles of sex and the sexes, influenced by feminism and the sexual revolution and gender-bending. In the story, an innocent young man from the hills brings his guitar to Hollywood, hoping to break into show business, but meets his love match in the confused, mercurial Lana Lovely, and more than his match in their boss, Ms. Pringle, dominant director of music videos and sexual desires. The milieu is music video production in an underground Hollywood of wild rhythms, provocative dance, and freaky passions. The title song expresses the theme: Everybody likes to do things different; Love can be wild or love can be tame. Hollywood love is a different kind of love, Yet really true love remains the same.</td>\n",
              "    </tr>\n",
              "    <tr>\n",
              "      <th>33419</th>\n",
              "      <td>33420</td>\n",
              "      <td>Trust 22 (2007)</td>\n",
              "      <td>documentary</td>\n",
              "      <td>In this amazing film full of magic the director will take you into a fabulous journey into the world of manifestation and the power of intention. After quitting his job at Nickelodeon (MTV Networks) Oren Stambouli decided that he was going to follow the flow of live to find people around the world that were pursuing their dreams. He understood that in order for this film to have an effect on people he had to find every day people pursuing \"impossible\" dreams and while shooting the film they will achieve them. On top of that he had an extra challenge; he didn't have a camera, a budget or even a script. But he had a story to tell and nothing was going to stop him from achieving his own dream. Welcome to Trust 22, were believing in a dream is the first step to seeing it, and not the last one. Special interviews with Singer/Songwriter Ricardo Montaner, who has sold more than 22 million albums worldwide. Latin Grammy winner and Grammy Nominee Nestor Torres &amp; Journalist and radio host Eli Bravo. For more info visit http://www.trust22.com</td>\n",
              "    </tr>\n",
              "    <tr>\n",
              "      <th>34416</th>\n",
              "      <td>34417</td>\n",
              "      <td>Voices in Exile (2005)</td>\n",
              "      <td>documentary</td>\n",
              "      <td>Most film and photography on Tibet is from \"The West\" or \"Western Eye\" looking in. This film 'Voices in Exile' by Tibetan and first time director Tenzin Wangden Andrugtsang, presents the Tibetan Exile Community from the rarely seen Tibetan point of view. Never before seen footage from The Tibetan Exile Community, includes, many interviews, and accounts of life in exile. Shot in black and white and color,and with English Voice Over. Parade Magazine calls The Tibetan Photo Project \"Rewarding\". The film \"Voices In Exile\" is hailed as a mini masterpiece. You can buy your copy at http://www.customflix.com/207375</td>\n",
              "    </tr>\n",
              "    <tr>\n",
              "      <th>37725</th>\n",
              "      <td>37726</td>\n",
              "      <td>A Strange Love Affair with Ego (2015)</td>\n",
              "      <td>documentary</td>\n",
              "      <td>Ever since she was a young child, filmmaker Ester Gould has been amazed by the sheer self-confidence of her older sister Rowan, whose boundless creativity and natural beauty tended to make everyone around her jealous. She has the world at her feet, and the universe is her playground. But can such a well-developed sense of your own worth go too far? Self-assurance is greatly valued - until it spills over into an unhealthy overestimation of the self. In this incisive, personal visual essay, Gould explores our society's increasing obsession with the self. Thanks in part to social media, the pressure to have a fantastically successful life is ever greater; personal development seems to be the only thing that counts. The filmmaker follows a number of seemingly successful people going out, socializing and participating in the art world, as they reflect in conversations or interviews on the level of self-confidence they display and how this relates to their actual \"self.\" Meanwhile, dreamy reenactments tell the story of the filmmaker's sister Rowan, illustrated by excerpts from correspondence between the sisters. How marvelously everything is going; how fantastically she's doing; she's taking yet another inspirational course; she gets so many invites that there's simply no time. Gould gradually starts to question her interesting sister's stories, which leads to a disconcerting denouement. - See more at: https://www.idfa.nl/industry/tags/project.aspx?id=0EB122D3-2D7D-474F-9AFE-25948DD336E8#sthash.wgBgnTGl.dpuf Admiration for her sister Rowan's self-confidence leads filmmaker Ester Gould on a personal exploration of our narcissistic culture, with disconcerting results. A remarkable journey past four life stages and the fundamental need to be seen.</td>\n",
              "    </tr>\n",
              "    <tr>\n",
              "      <th>46413</th>\n",
              "      <td>46414</td>\n",
              "      <td>Evil Tales 3: The Final Chapter (2003)</td>\n",
              "      <td>horror</td>\n",
              "      <td>4 short films of horror are related by scantily clad hostess Pamela Sutch. 'The Madness' involves a young man who is suffering some terrible nightmares of his ex-wife, makes repeated visits to a psychiatrist, and ends up a pawn in an evil scheme. 'The Dead Forest' is about a man who attempts to bury his slaughtered newborn deep within a forest to cover his evil deed until he is tormented by the cries of his departed child and a disturbing vision. 'The Nudy Channel' revolves around a cable channel that features a temptress who speaks directly to the viewer, forcing them to commit suicide. 'Demon In The Basement' features a homemade video diary of a doctor revealing the secret monster kept in his basement that has been killing women in his home. Voted one of the Worst Movies of 2003 by Video Graveyard Review Site ( http://www.thevideograveyard.com/2003.html)</td>\n",
              "    </tr>\n",
              "    <tr>\n",
              "      <th>49015</th>\n",
              "      <td>49016</td>\n",
              "      <td>\"The L.A. Hardcore\" (2005)</td>\n",
              "      <td>documentary</td>\n",
              "      <td>The L.A. Hardcore is a television series taking us on a journey through Los Angeles in the 1980s, from the perspective of skateboarding and punk rock. The story is told via a series of readings on the era (including Tony Hawk reading from his own biography, Henry Rollins and comedian Bill Hicks!), alongside live music performances from bands like Black Flag and The Circle Jerks. List of books featured in the series is here http://www.extreme.com/news/news_article.asp?SID=394.</td>\n",
              "    </tr>\n",
              "  </tbody>\n",
              "</table>\n",
              "</div>\n",
              "    <div class=\"colab-df-buttons\">\n",
              "\n",
              "  <div class=\"colab-df-container\">\n",
              "    <button class=\"colab-df-convert\" onclick=\"convertToInteractive('df-f6057000-d722-409c-b2a4-36a4e533554f')\"\n",
              "            title=\"Convert this dataframe to an interactive table.\"\n",
              "            style=\"display:none;\">\n",
              "\n",
              "  <svg xmlns=\"http://www.w3.org/2000/svg\" height=\"24px\" viewBox=\"0 -960 960 960\">\n",
              "    <path d=\"M120-120v-720h720v720H120Zm60-500h600v-160H180v160Zm220 220h160v-160H400v160Zm0 220h160v-160H400v160ZM180-400h160v-160H180v160Zm440 0h160v-160H620v160ZM180-180h160v-160H180v160Zm440 0h160v-160H620v160Z\"/>\n",
              "  </svg>\n",
              "    </button>\n",
              "\n",
              "  <style>\n",
              "    .colab-df-container {\n",
              "      display:flex;\n",
              "      gap: 12px;\n",
              "    }\n",
              "\n",
              "    .colab-df-convert {\n",
              "      background-color: #E8F0FE;\n",
              "      border: none;\n",
              "      border-radius: 50%;\n",
              "      cursor: pointer;\n",
              "      display: none;\n",
              "      fill: #1967D2;\n",
              "      height: 32px;\n",
              "      padding: 0 0 0 0;\n",
              "      width: 32px;\n",
              "    }\n",
              "\n",
              "    .colab-df-convert:hover {\n",
              "      background-color: #E2EBFA;\n",
              "      box-shadow: 0px 1px 2px rgba(60, 64, 67, 0.3), 0px 1px 3px 1px rgba(60, 64, 67, 0.15);\n",
              "      fill: #174EA6;\n",
              "    }\n",
              "\n",
              "    .colab-df-buttons div {\n",
              "      margin-bottom: 4px;\n",
              "    }\n",
              "\n",
              "    [theme=dark] .colab-df-convert {\n",
              "      background-color: #3B4455;\n",
              "      fill: #D2E3FC;\n",
              "    }\n",
              "\n",
              "    [theme=dark] .colab-df-convert:hover {\n",
              "      background-color: #434B5C;\n",
              "      box-shadow: 0px 1px 3px 1px rgba(0, 0, 0, 0.15);\n",
              "      filter: drop-shadow(0px 1px 2px rgba(0, 0, 0, 0.3));\n",
              "      fill: #FFFFFF;\n",
              "    }\n",
              "  </style>\n",
              "\n",
              "    <script>\n",
              "      const buttonEl =\n",
              "        document.querySelector('#df-f6057000-d722-409c-b2a4-36a4e533554f button.colab-df-convert');\n",
              "      buttonEl.style.display =\n",
              "        google.colab.kernel.accessAllowed ? 'block' : 'none';\n",
              "\n",
              "      async function convertToInteractive(key) {\n",
              "        const element = document.querySelector('#df-f6057000-d722-409c-b2a4-36a4e533554f');\n",
              "        const dataTable =\n",
              "          await google.colab.kernel.invokeFunction('convertToInteractive',\n",
              "                                                    [key], {});\n",
              "        if (!dataTable) return;\n",
              "\n",
              "        const docLinkHtml = 'Like what you see? Visit the ' +\n",
              "          '<a target=\"_blank\" href=https://colab.research.google.com/notebooks/data_table.ipynb>data table notebook</a>'\n",
              "          + ' to learn more about interactive tables.';\n",
              "        element.innerHTML = '';\n",
              "        dataTable['output_type'] = 'display_data';\n",
              "        await google.colab.output.renderOutput(dataTable, element);\n",
              "        const docLink = document.createElement('div');\n",
              "        docLink.innerHTML = docLinkHtml;\n",
              "        element.appendChild(docLink);\n",
              "      }\n",
              "    </script>\n",
              "  </div>\n",
              "\n",
              "\n",
              "<div id=\"df-506b210e-bae7-4899-84ed-5d38be073926\">\n",
              "  <button class=\"colab-df-quickchart\" onclick=\"quickchart('df-506b210e-bae7-4899-84ed-5d38be073926')\"\n",
              "            title=\"Suggest charts\"\n",
              "            style=\"display:none;\">\n",
              "\n",
              "<svg xmlns=\"http://www.w3.org/2000/svg\" height=\"24px\"viewBox=\"0 0 24 24\"\n",
              "     width=\"24px\">\n",
              "    <g>\n",
              "        <path d=\"M19 3H5c-1.1 0-2 .9-2 2v14c0 1.1.9 2 2 2h14c1.1 0 2-.9 2-2V5c0-1.1-.9-2-2-2zM9 17H7v-7h2v7zm4 0h-2V7h2v10zm4 0h-2v-4h2v4z\"/>\n",
              "    </g>\n",
              "</svg>\n",
              "  </button>\n",
              "\n",
              "<style>\n",
              "  .colab-df-quickchart {\n",
              "      --bg-color: #E8F0FE;\n",
              "      --fill-color: #1967D2;\n",
              "      --hover-bg-color: #E2EBFA;\n",
              "      --hover-fill-color: #174EA6;\n",
              "      --disabled-fill-color: #AAA;\n",
              "      --disabled-bg-color: #DDD;\n",
              "  }\n",
              "\n",
              "  [theme=dark] .colab-df-quickchart {\n",
              "      --bg-color: #3B4455;\n",
              "      --fill-color: #D2E3FC;\n",
              "      --hover-bg-color: #434B5C;\n",
              "      --hover-fill-color: #FFFFFF;\n",
              "      --disabled-bg-color: #3B4455;\n",
              "      --disabled-fill-color: #666;\n",
              "  }\n",
              "\n",
              "  .colab-df-quickchart {\n",
              "    background-color: var(--bg-color);\n",
              "    border: none;\n",
              "    border-radius: 50%;\n",
              "    cursor: pointer;\n",
              "    display: none;\n",
              "    fill: var(--fill-color);\n",
              "    height: 32px;\n",
              "    padding: 0;\n",
              "    width: 32px;\n",
              "  }\n",
              "\n",
              "  .colab-df-quickchart:hover {\n",
              "    background-color: var(--hover-bg-color);\n",
              "    box-shadow: 0 1px 2px rgba(60, 64, 67, 0.3), 0 1px 3px 1px rgba(60, 64, 67, 0.15);\n",
              "    fill: var(--button-hover-fill-color);\n",
              "  }\n",
              "\n",
              "  .colab-df-quickchart-complete:disabled,\n",
              "  .colab-df-quickchart-complete:disabled:hover {\n",
              "    background-color: var(--disabled-bg-color);\n",
              "    fill: var(--disabled-fill-color);\n",
              "    box-shadow: none;\n",
              "  }\n",
              "\n",
              "  .colab-df-spinner {\n",
              "    border: 2px solid var(--fill-color);\n",
              "    border-color: transparent;\n",
              "    border-bottom-color: var(--fill-color);\n",
              "    animation:\n",
              "      spin 1s steps(1) infinite;\n",
              "  }\n",
              "\n",
              "  @keyframes spin {\n",
              "    0% {\n",
              "      border-color: transparent;\n",
              "      border-bottom-color: var(--fill-color);\n",
              "      border-left-color: var(--fill-color);\n",
              "    }\n",
              "    20% {\n",
              "      border-color: transparent;\n",
              "      border-left-color: var(--fill-color);\n",
              "      border-top-color: var(--fill-color);\n",
              "    }\n",
              "    30% {\n",
              "      border-color: transparent;\n",
              "      border-left-color: var(--fill-color);\n",
              "      border-top-color: var(--fill-color);\n",
              "      border-right-color: var(--fill-color);\n",
              "    }\n",
              "    40% {\n",
              "      border-color: transparent;\n",
              "      border-right-color: var(--fill-color);\n",
              "      border-top-color: var(--fill-color);\n",
              "    }\n",
              "    60% {\n",
              "      border-color: transparent;\n",
              "      border-right-color: var(--fill-color);\n",
              "    }\n",
              "    80% {\n",
              "      border-color: transparent;\n",
              "      border-right-color: var(--fill-color);\n",
              "      border-bottom-color: var(--fill-color);\n",
              "    }\n",
              "    90% {\n",
              "      border-color: transparent;\n",
              "      border-bottom-color: var(--fill-color);\n",
              "    }\n",
              "  }\n",
              "</style>\n",
              "\n",
              "  <script>\n",
              "    async function quickchart(key) {\n",
              "      const quickchartButtonEl =\n",
              "        document.querySelector('#' + key + ' button');\n",
              "      quickchartButtonEl.disabled = true;  // To prevent multiple clicks.\n",
              "      quickchartButtonEl.classList.add('colab-df-spinner');\n",
              "      try {\n",
              "        const charts = await google.colab.kernel.invokeFunction(\n",
              "            'suggestCharts', [key], {});\n",
              "      } catch (error) {\n",
              "        console.error('Error during call to suggestCharts:', error);\n",
              "      }\n",
              "      quickchartButtonEl.classList.remove('colab-df-spinner');\n",
              "      quickchartButtonEl.classList.add('colab-df-quickchart-complete');\n",
              "    }\n",
              "    (() => {\n",
              "      let quickchartButtonEl =\n",
              "        document.querySelector('#df-506b210e-bae7-4899-84ed-5d38be073926 button');\n",
              "      quickchartButtonEl.style.display =\n",
              "        google.colab.kernel.accessAllowed ? 'block' : 'none';\n",
              "    })();\n",
              "  </script>\n",
              "</div>\n",
              "\n",
              "    </div>\n",
              "  </div>\n"
            ],
            "application/vnd.google.colaboratory.intrinsic+json": {
              "type": "dataframe",
              "summary": "{\n  \"name\": \"train_data\",\n  \"rows\": 9,\n  \"fields\": [\n    {\n      \"column\": \"id\",\n      \"properties\": {\n        \"dtype\": \"number\",\n        \"std\": 10715,\n        \"min\": 16975,\n        \"max\": 49016,\n        \"num_unique_values\": 9,\n        \"samples\": [\n          46414,\n          20749,\n          34417\n        ],\n        \"semantic_type\": \"\",\n        \"description\": \"\"\n      }\n    },\n    {\n      \"column\": \"title\",\n      \"properties\": {\n        \"dtype\": \"string\",\n        \"num_unique_values\": 9,\n        \"samples\": [\n          \" Evil Tales 3: The Final Chapter (2003) \",\n          \" Blocking the Path to 9/11 (2008) \",\n          \" Voices in Exile (2005) \"\n        ],\n        \"semantic_type\": \"\",\n        \"description\": \"\"\n      }\n    },\n    {\n      \"column\": \"genre\",\n      \"properties\": {\n        \"dtype\": \"category\",\n        \"num_unique_values\": 4,\n        \"samples\": [\n          \" reality-tv \",\n          \" horror \",\n          \" documentary \"\n        ],\n        \"semantic_type\": \"\",\n        \"description\": \"\"\n      }\n    },\n    {\n      \"column\": \"description\",\n      \"properties\": {\n        \"dtype\": \"string\",\n        \"num_unique_values\": 9,\n        \"samples\": [\n          \" 4 short films of horror are related by scantily clad hostess Pamela Sutch. 'The Madness' involves a young man who is suffering some terrible nightmares of his ex-wife, makes repeated visits to a psychiatrist, and ends up a pawn in an evil scheme. 'The Dead Forest' is about a man who attempts to bury his slaughtered newborn deep within a forest to cover his evil deed until he is tormented by the cries of his departed child and a disturbing vision. 'The Nudy Channel' revolves around a cable channel that features a temptress who speaks directly to the viewer, forcing them to commit suicide. 'Demon In The Basement' features a homemade video diary of a doctor revealing the secret monster kept in his basement that has been killing women in his home. Voted one of the Worst Movies of 2003 by Video Graveyard Review Site ( http://www.thevideograveyard.com/2003.html)\",\n          \" There's more to the story of the Clintons and 9/11. Over two nights -- September 10-11, 2006, just four months before Hillary announced the exploratory committee for her original presidential campaign, ABC aired The Path to 9/11, a riveting and factual docudrama. This acclaimed and balanced movie faulted two administrations -- Bill Clinton and George W. Bush. But fairness was not what Hillary wanted. Screenwriter Cyrus Nowrasteh told me he had expected the customary DVD distribution. But the Clintons, fearing the impact of DVD release during her campaign, successfully pressured Disney, which owns ABC, to bury the movie. This is a portion of a news article that originally appeared: http://www.frontpagemag.com/fpm/261541/hillarys-path-back-911-arnold-steinberg This article originally appeared in The Huffington Post http://www.huffingtonpost.com/arnold-steinberg/hillarys-path-back-to-911_b_9039658.html This article was written by Arnold Steinberg from Huffington Post and was legally licensed through the NewsCred publisher network.\",\n          \" Most film and photography on Tibet is from \\\"The West\\\" or \\\"Western Eye\\\" looking in. This film 'Voices in Exile' by Tibetan and first time director Tenzin Wangden Andrugtsang, presents the Tibetan Exile Community from the rarely seen Tibetan point of view. Never before seen footage from The Tibetan Exile Community, includes, many interviews, and accounts of life in exile. Shot in black and white and color,and with English Voice Over. Parade Magazine calls The Tibetan Photo Project \\\"Rewarding\\\". The film \\\"Voices In Exile\\\" is hailed as a mini masterpiece. You can buy your copy at http://www.customflix.com/207375\"\n        ],\n        \"semantic_type\": \"\",\n        \"description\": \"\"\n      }\n    }\n  ]\n}"
            }
          },
          "metadata": {},
          "execution_count": 13
        }
      ],
      "source": [
        "train_data.loc[train_data['description'].str.contains(r'http\\S+', na=False)]"
      ]
    },
    {
      "cell_type": "markdown",
      "metadata": {
        "id": "deBOiD5fSpg_"
      },
      "source": [
        "## Data Cleaning"
      ]
    },
    {
      "cell_type": "code",
      "execution_count": 14,
      "metadata": {
        "id": "x3BJbOjKSq8V",
        "colab": {
          "base_uri": "https://localhost:8080/"
        },
        "outputId": "b3be4a6f-34f0-495a-96af-3936f888e98c"
      },
      "outputs": [
        {
          "output_type": "stream",
          "name": "stderr",
          "text": [
            "[nltk_data] Downloading package stopwords to /root/nltk_data...\n",
            "[nltk_data]   Package stopwords is already up-to-date!\n"
          ]
        }
      ],
      "source": [
        "nltk.download('stopwords')\n",
        "stop_words = set(stopwords.words('english'))"
      ]
    },
    {
      "cell_type": "code",
      "execution_count": 15,
      "metadata": {
        "id": "xPgy18kxTSMi"
      },
      "outputs": [],
      "source": [
        "def clean(text):\n",
        "  text = text.lower()\n",
        "\n",
        "  #replacing emails and hyperlinks\n",
        "  text = re.sub(r'\\S+@\\S+', '', text)\n",
        "  text = re.sub(r'http\\S+', '', text)\n",
        "\n",
        "  #removing single characters\n",
        "  text = re.sub(r'\\s+[a-zA-Z]\\s+', '', text)\n",
        "\n",
        "  #tokenization and stopwords removal\n",
        "  words = nltk.tokenize.word_tokenize(text)\n",
        "  text = \" \".join([word for word in words if word not in stop_words and len(word)>2])\n",
        "\n",
        "  return text.strip()"
      ]
    },
    {
      "cell_type": "code",
      "execution_count": 16,
      "metadata": {
        "id": "GgcBkeoBVHad",
        "colab": {
          "base_uri": "https://localhost:8080/",
          "height": 536
        },
        "outputId": "bb643507-8ea3-4580-ab1a-625884b8b767"
      },
      "outputs": [
        {
          "output_type": "execute_result",
          "data": {
            "text/plain": [
              "   id                               title       genre  \\\n",
              "0   1       Oscar et la dame rose (2009)       drama    \n",
              "1   2                       Cupid (1997)    thriller    \n",
              "2   3   Young, Wild and Wonderful (1980)       adult    \n",
              "3   4              The Secret Sin (1915)       drama    \n",
              "4   5             The Unrecovered (2007)       drama    \n",
              "\n",
              "                                                                                                                                                                                                                                                                                                                                                                                                                                                                                                                                                                                                                                                                                                                                                                                                                                                                                                                                                                                                                                                                                                                  description  \n",
              "0                                                                                                                                                                                                                                                                                                                                                                                                                                                                                                                                                           Listening in to a conversation between his doctor and parents, 10-year-old Oscar learns what nobody has the courage to tell him. He only has a few weeks to live. Furious, he refuses to speak to anyone except straight-talking Rose, the lady in pink he meets on the hospital stairs. As Christmas approaches, Rose uses her fantastical experiences as a professional wrestler, her imagination, wit and charm to allow Oscar to live life and love to the full, in the company of his friends Pop Corn, Einstein, Bacon and childhood sweetheart Peggy Blue.  \n",
              "1                                                                                                                                                                                                                                                                                                                                                                                                                                                                                                                                                                                                                                                                                                                                                                                                                                                                                                                                     A brother and sister with a past incestuous relationship have a current murderous relationship. He murders the women who reject him and she murders the women who get too close to him.  \n",
              "2                                                                                                                                                                                                                                                                                                                                                                                                                                                   As the bus empties the students for their field trip to the Museum of Natural History, little does the tour guide suspect that the students are there for more than just another tour. First, during the lecture films, the coeds drift into dreams of the most erotic fantasies one can imagine. After the films, they release the emotion of the fantasies in the most erotic and uncommon ways. One slips off to the curator's office for a little \"acquisition. \" Another finds the anthropologist to see what bones can be identified. Even the head teacher isn't immune. Soon the tour is over, but as the bus departs, everyone admits it was quite an education.  \n",
              "3   To help their unemployed father make ends meet, Edith and her twin sister Grace work as seamstresses . An invalid, Grace falls prey to the temptations of Chinatown opium and becomes an addict, a condition worsened by a misguided physician who prescribes morphine to ease her pain. When their father strikes oil, the family enjoys a new prosperity and the sisters meet the eligible Jack Herron, a fellow oil prospector. To Grace's shock, Jack falls in love with Edith and in her jealousy, Grace tells Jack that Edith, not she, has a drug problem. Hinting that her sister will soon need more morphine, Grace arranges for a dinner in Chinatown with the couple. While her sister and Jack dance, Grace slips away to an opium den. Edith follows her, but ends up in the wrong den and is arrested in an ensuing drug raid. After he bails her out of jail, Edith takes an angry Jack to search for Grace and stumbles across her half-conscious body lying in the street. The truth about the sisters is revealed, and after sending Grace to a sanitarium in the country, Jack and Edith are married.  \n",
              "4                                                                                                                                                                                                                                                                                                                                                                                                                                                                            The film's title refers not only to the un-recovered bodies at ground zero, but also to the state of the nation at large. Set in the hallucinatory period of time between September 11 and Halloween of 2001, The Unrecovered examines the effect of terror on the average mind, the way a state of heightened anxiety and/or alertness can cause the average person to make the sort of imaginative connections that are normally made only by artists and conspiracy theorists-both of whom figure prominently in this film. The Unrecovered explores the way in which irony, empathy, and paranoia relate to one another in the wake of 9/11.  "
            ],
            "text/html": [
              "\n",
              "  <div id=\"df-ccf85999-2f1c-442e-96ae-cb7937f70ccb\" class=\"colab-df-container\">\n",
              "    <div>\n",
              "<style scoped>\n",
              "    .dataframe tbody tr th:only-of-type {\n",
              "        vertical-align: middle;\n",
              "    }\n",
              "\n",
              "    .dataframe tbody tr th {\n",
              "        vertical-align: top;\n",
              "    }\n",
              "\n",
              "    .dataframe thead th {\n",
              "        text-align: right;\n",
              "    }\n",
              "</style>\n",
              "<table border=\"1\" class=\"dataframe\">\n",
              "  <thead>\n",
              "    <tr style=\"text-align: right;\">\n",
              "      <th></th>\n",
              "      <th>id</th>\n",
              "      <th>title</th>\n",
              "      <th>genre</th>\n",
              "      <th>description</th>\n",
              "    </tr>\n",
              "  </thead>\n",
              "  <tbody>\n",
              "    <tr>\n",
              "      <th>0</th>\n",
              "      <td>1</td>\n",
              "      <td>Oscar et la dame rose (2009)</td>\n",
              "      <td>drama</td>\n",
              "      <td>Listening in to a conversation between his doctor and parents, 10-year-old Oscar learns what nobody has the courage to tell him. He only has a few weeks to live. Furious, he refuses to speak to anyone except straight-talking Rose, the lady in pink he meets on the hospital stairs. As Christmas approaches, Rose uses her fantastical experiences as a professional wrestler, her imagination, wit and charm to allow Oscar to live life and love to the full, in the company of his friends Pop Corn, Einstein, Bacon and childhood sweetheart Peggy Blue.</td>\n",
              "    </tr>\n",
              "    <tr>\n",
              "      <th>1</th>\n",
              "      <td>2</td>\n",
              "      <td>Cupid (1997)</td>\n",
              "      <td>thriller</td>\n",
              "      <td>A brother and sister with a past incestuous relationship have a current murderous relationship. He murders the women who reject him and she murders the women who get too close to him.</td>\n",
              "    </tr>\n",
              "    <tr>\n",
              "      <th>2</th>\n",
              "      <td>3</td>\n",
              "      <td>Young, Wild and Wonderful (1980)</td>\n",
              "      <td>adult</td>\n",
              "      <td>As the bus empties the students for their field trip to the Museum of Natural History, little does the tour guide suspect that the students are there for more than just another tour. First, during the lecture films, the coeds drift into dreams of the most erotic fantasies one can imagine. After the films, they release the emotion of the fantasies in the most erotic and uncommon ways. One slips off to the curator's office for a little \"acquisition. \" Another finds the anthropologist to see what bones can be identified. Even the head teacher isn't immune. Soon the tour is over, but as the bus departs, everyone admits it was quite an education.</td>\n",
              "    </tr>\n",
              "    <tr>\n",
              "      <th>3</th>\n",
              "      <td>4</td>\n",
              "      <td>The Secret Sin (1915)</td>\n",
              "      <td>drama</td>\n",
              "      <td>To help their unemployed father make ends meet, Edith and her twin sister Grace work as seamstresses . An invalid, Grace falls prey to the temptations of Chinatown opium and becomes an addict, a condition worsened by a misguided physician who prescribes morphine to ease her pain. When their father strikes oil, the family enjoys a new prosperity and the sisters meet the eligible Jack Herron, a fellow oil prospector. To Grace's shock, Jack falls in love with Edith and in her jealousy, Grace tells Jack that Edith, not she, has a drug problem. Hinting that her sister will soon need more morphine, Grace arranges for a dinner in Chinatown with the couple. While her sister and Jack dance, Grace slips away to an opium den. Edith follows her, but ends up in the wrong den and is arrested in an ensuing drug raid. After he bails her out of jail, Edith takes an angry Jack to search for Grace and stumbles across her half-conscious body lying in the street. The truth about the sisters is revealed, and after sending Grace to a sanitarium in the country, Jack and Edith are married.</td>\n",
              "    </tr>\n",
              "    <tr>\n",
              "      <th>4</th>\n",
              "      <td>5</td>\n",
              "      <td>The Unrecovered (2007)</td>\n",
              "      <td>drama</td>\n",
              "      <td>The film's title refers not only to the un-recovered bodies at ground zero, but also to the state of the nation at large. Set in the hallucinatory period of time between September 11 and Halloween of 2001, The Unrecovered examines the effect of terror on the average mind, the way a state of heightened anxiety and/or alertness can cause the average person to make the sort of imaginative connections that are normally made only by artists and conspiracy theorists-both of whom figure prominently in this film. The Unrecovered explores the way in which irony, empathy, and paranoia relate to one another in the wake of 9/11.</td>\n",
              "    </tr>\n",
              "  </tbody>\n",
              "</table>\n",
              "</div>\n",
              "    <div class=\"colab-df-buttons\">\n",
              "\n",
              "  <div class=\"colab-df-container\">\n",
              "    <button class=\"colab-df-convert\" onclick=\"convertToInteractive('df-ccf85999-2f1c-442e-96ae-cb7937f70ccb')\"\n",
              "            title=\"Convert this dataframe to an interactive table.\"\n",
              "            style=\"display:none;\">\n",
              "\n",
              "  <svg xmlns=\"http://www.w3.org/2000/svg\" height=\"24px\" viewBox=\"0 -960 960 960\">\n",
              "    <path d=\"M120-120v-720h720v720H120Zm60-500h600v-160H180v160Zm220 220h160v-160H400v160Zm0 220h160v-160H400v160ZM180-400h160v-160H180v160Zm440 0h160v-160H620v160ZM180-180h160v-160H180v160Zm440 0h160v-160H620v160Z\"/>\n",
              "  </svg>\n",
              "    </button>\n",
              "\n",
              "  <style>\n",
              "    .colab-df-container {\n",
              "      display:flex;\n",
              "      gap: 12px;\n",
              "    }\n",
              "\n",
              "    .colab-df-convert {\n",
              "      background-color: #E8F0FE;\n",
              "      border: none;\n",
              "      border-radius: 50%;\n",
              "      cursor: pointer;\n",
              "      display: none;\n",
              "      fill: #1967D2;\n",
              "      height: 32px;\n",
              "      padding: 0 0 0 0;\n",
              "      width: 32px;\n",
              "    }\n",
              "\n",
              "    .colab-df-convert:hover {\n",
              "      background-color: #E2EBFA;\n",
              "      box-shadow: 0px 1px 2px rgba(60, 64, 67, 0.3), 0px 1px 3px 1px rgba(60, 64, 67, 0.15);\n",
              "      fill: #174EA6;\n",
              "    }\n",
              "\n",
              "    .colab-df-buttons div {\n",
              "      margin-bottom: 4px;\n",
              "    }\n",
              "\n",
              "    [theme=dark] .colab-df-convert {\n",
              "      background-color: #3B4455;\n",
              "      fill: #D2E3FC;\n",
              "    }\n",
              "\n",
              "    [theme=dark] .colab-df-convert:hover {\n",
              "      background-color: #434B5C;\n",
              "      box-shadow: 0px 1px 3px 1px rgba(0, 0, 0, 0.15);\n",
              "      filter: drop-shadow(0px 1px 2px rgba(0, 0, 0, 0.3));\n",
              "      fill: #FFFFFF;\n",
              "    }\n",
              "  </style>\n",
              "\n",
              "    <script>\n",
              "      const buttonEl =\n",
              "        document.querySelector('#df-ccf85999-2f1c-442e-96ae-cb7937f70ccb button.colab-df-convert');\n",
              "      buttonEl.style.display =\n",
              "        google.colab.kernel.accessAllowed ? 'block' : 'none';\n",
              "\n",
              "      async function convertToInteractive(key) {\n",
              "        const element = document.querySelector('#df-ccf85999-2f1c-442e-96ae-cb7937f70ccb');\n",
              "        const dataTable =\n",
              "          await google.colab.kernel.invokeFunction('convertToInteractive',\n",
              "                                                    [key], {});\n",
              "        if (!dataTable) return;\n",
              "\n",
              "        const docLinkHtml = 'Like what you see? Visit the ' +\n",
              "          '<a target=\"_blank\" href=https://colab.research.google.com/notebooks/data_table.ipynb>data table notebook</a>'\n",
              "          + ' to learn more about interactive tables.';\n",
              "        element.innerHTML = '';\n",
              "        dataTable['output_type'] = 'display_data';\n",
              "        await google.colab.output.renderOutput(dataTable, element);\n",
              "        const docLink = document.createElement('div');\n",
              "        docLink.innerHTML = docLinkHtml;\n",
              "        element.appendChild(docLink);\n",
              "      }\n",
              "    </script>\n",
              "  </div>\n",
              "\n",
              "\n",
              "<div id=\"df-29de5363-c45e-4132-9e1b-1a0f6ac78b77\">\n",
              "  <button class=\"colab-df-quickchart\" onclick=\"quickchart('df-29de5363-c45e-4132-9e1b-1a0f6ac78b77')\"\n",
              "            title=\"Suggest charts\"\n",
              "            style=\"display:none;\">\n",
              "\n",
              "<svg xmlns=\"http://www.w3.org/2000/svg\" height=\"24px\"viewBox=\"0 0 24 24\"\n",
              "     width=\"24px\">\n",
              "    <g>\n",
              "        <path d=\"M19 3H5c-1.1 0-2 .9-2 2v14c0 1.1.9 2 2 2h14c1.1 0 2-.9 2-2V5c0-1.1-.9-2-2-2zM9 17H7v-7h2v7zm4 0h-2V7h2v10zm4 0h-2v-4h2v4z\"/>\n",
              "    </g>\n",
              "</svg>\n",
              "  </button>\n",
              "\n",
              "<style>\n",
              "  .colab-df-quickchart {\n",
              "      --bg-color: #E8F0FE;\n",
              "      --fill-color: #1967D2;\n",
              "      --hover-bg-color: #E2EBFA;\n",
              "      --hover-fill-color: #174EA6;\n",
              "      --disabled-fill-color: #AAA;\n",
              "      --disabled-bg-color: #DDD;\n",
              "  }\n",
              "\n",
              "  [theme=dark] .colab-df-quickchart {\n",
              "      --bg-color: #3B4455;\n",
              "      --fill-color: #D2E3FC;\n",
              "      --hover-bg-color: #434B5C;\n",
              "      --hover-fill-color: #FFFFFF;\n",
              "      --disabled-bg-color: #3B4455;\n",
              "      --disabled-fill-color: #666;\n",
              "  }\n",
              "\n",
              "  .colab-df-quickchart {\n",
              "    background-color: var(--bg-color);\n",
              "    border: none;\n",
              "    border-radius: 50%;\n",
              "    cursor: pointer;\n",
              "    display: none;\n",
              "    fill: var(--fill-color);\n",
              "    height: 32px;\n",
              "    padding: 0;\n",
              "    width: 32px;\n",
              "  }\n",
              "\n",
              "  .colab-df-quickchart:hover {\n",
              "    background-color: var(--hover-bg-color);\n",
              "    box-shadow: 0 1px 2px rgba(60, 64, 67, 0.3), 0 1px 3px 1px rgba(60, 64, 67, 0.15);\n",
              "    fill: var(--button-hover-fill-color);\n",
              "  }\n",
              "\n",
              "  .colab-df-quickchart-complete:disabled,\n",
              "  .colab-df-quickchart-complete:disabled:hover {\n",
              "    background-color: var(--disabled-bg-color);\n",
              "    fill: var(--disabled-fill-color);\n",
              "    box-shadow: none;\n",
              "  }\n",
              "\n",
              "  .colab-df-spinner {\n",
              "    border: 2px solid var(--fill-color);\n",
              "    border-color: transparent;\n",
              "    border-bottom-color: var(--fill-color);\n",
              "    animation:\n",
              "      spin 1s steps(1) infinite;\n",
              "  }\n",
              "\n",
              "  @keyframes spin {\n",
              "    0% {\n",
              "      border-color: transparent;\n",
              "      border-bottom-color: var(--fill-color);\n",
              "      border-left-color: var(--fill-color);\n",
              "    }\n",
              "    20% {\n",
              "      border-color: transparent;\n",
              "      border-left-color: var(--fill-color);\n",
              "      border-top-color: var(--fill-color);\n",
              "    }\n",
              "    30% {\n",
              "      border-color: transparent;\n",
              "      border-left-color: var(--fill-color);\n",
              "      border-top-color: var(--fill-color);\n",
              "      border-right-color: var(--fill-color);\n",
              "    }\n",
              "    40% {\n",
              "      border-color: transparent;\n",
              "      border-right-color: var(--fill-color);\n",
              "      border-top-color: var(--fill-color);\n",
              "    }\n",
              "    60% {\n",
              "      border-color: transparent;\n",
              "      border-right-color: var(--fill-color);\n",
              "    }\n",
              "    80% {\n",
              "      border-color: transparent;\n",
              "      border-right-color: var(--fill-color);\n",
              "      border-bottom-color: var(--fill-color);\n",
              "    }\n",
              "    90% {\n",
              "      border-color: transparent;\n",
              "      border-bottom-color: var(--fill-color);\n",
              "    }\n",
              "  }\n",
              "</style>\n",
              "\n",
              "  <script>\n",
              "    async function quickchart(key) {\n",
              "      const quickchartButtonEl =\n",
              "        document.querySelector('#' + key + ' button');\n",
              "      quickchartButtonEl.disabled = true;  // To prevent multiple clicks.\n",
              "      quickchartButtonEl.classList.add('colab-df-spinner');\n",
              "      try {\n",
              "        const charts = await google.colab.kernel.invokeFunction(\n",
              "            'suggestCharts', [key], {});\n",
              "      } catch (error) {\n",
              "        console.error('Error during call to suggestCharts:', error);\n",
              "      }\n",
              "      quickchartButtonEl.classList.remove('colab-df-spinner');\n",
              "      quickchartButtonEl.classList.add('colab-df-quickchart-complete');\n",
              "    }\n",
              "    (() => {\n",
              "      let quickchartButtonEl =\n",
              "        document.querySelector('#df-29de5363-c45e-4132-9e1b-1a0f6ac78b77 button');\n",
              "      quickchartButtonEl.style.display =\n",
              "        google.colab.kernel.accessAllowed ? 'block' : 'none';\n",
              "    })();\n",
              "  </script>\n",
              "</div>\n",
              "\n",
              "    </div>\n",
              "  </div>\n"
            ],
            "application/vnd.google.colaboratory.intrinsic+json": {
              "type": "dataframe",
              "variable_name": "train_data",
              "summary": "{\n  \"name\": \"train_data\",\n  \"rows\": 54214,\n  \"fields\": [\n    {\n      \"column\": \"id\",\n      \"properties\": {\n        \"dtype\": \"number\",\n        \"std\": 15650,\n        \"min\": 1,\n        \"max\": 54214,\n        \"num_unique_values\": 54214,\n        \"samples\": [\n          5090,\n          30324,\n          6416\n        ],\n        \"semantic_type\": \"\",\n        \"description\": \"\"\n      }\n    },\n    {\n      \"column\": \"title\",\n      \"properties\": {\n        \"dtype\": \"string\",\n        \"num_unique_values\": 54214,\n        \"samples\": [\n          \" Sisterhood (2008) \",\n          \" Idylle (1983) \",\n          \" The Lost Skeleton Returns Again (2009) \"\n        ],\n        \"semantic_type\": \"\",\n        \"description\": \"\"\n      }\n    },\n    {\n      \"column\": \"genre\",\n      \"properties\": {\n        \"dtype\": \"category\",\n        \"num_unique_values\": 27,\n        \"samples\": [\n          \" sport \",\n          \" sci-fi \",\n          \" animation \"\n        ],\n        \"semantic_type\": \"\",\n        \"description\": \"\"\n      }\n    },\n    {\n      \"column\": \"description\",\n      \"properties\": {\n        \"dtype\": \"string\",\n        \"num_unique_values\": 54086,\n        \"samples\": [\n          \" When a celestial event causes a depressed call centre employee to gain amazing abilities, he is told that he is actually the reincarnation of a powerful warrior. With his new-found ally, he must find out who he must become before the forces who seek his destruction find him.\",\n          \" Set against a lush Western Indian landscape during the monsoon season, CHITRAKUT delicately sets the tone, interweaving the lives of Saloni, Shaan, Debu, Alisha and Kim - all converging at different intersections of life, discovering the meaning of love, encapsulating fractured feelings, consumption of romantic longing and fleeting moments.\",\n          \" It is just after midnight. A family is fast asleep on a vast sofa in\\u00a0front of a television. They are woken abruptly by the sound track of the film they are watching, and find themselves being quite literally\\u00a0moved by the exhilarating sounds and images emanating from the\\u00a0screen.\"\n        ],\n        \"semantic_type\": \"\",\n        \"description\": \"\"\n      }\n    }\n  ]\n}"
            }
          },
          "metadata": {},
          "execution_count": 16
        }
      ],
      "source": [
        "train_data.head()"
      ]
    },
    {
      "cell_type": "markdown",
      "metadata": {
        "id": "7bOiXWX5U5fp"
      },
      "source": [
        "### Downloads the punkt tokenizer models from nltk\n",
        "\n",
        "Punkt Sentence Tokenizer (abbreviated as Punkt) is a statistical sentence tokenizer.\n",
        "\n",
        "The primary purpose of Punkt is to divide a text into individual sentences. It achieves this by using an unsupervised learning algorithm that is trained on a large corpus of text data."
      ]
    },
    {
      "cell_type": "code",
      "execution_count": 17,
      "metadata": {
        "id": "nGlvkOILVicD",
        "colab": {
          "base_uri": "https://localhost:8080/"
        },
        "outputId": "daae2f6d-7899-40b1-f7e0-1358166cfbe6"
      },
      "outputs": [
        {
          "output_type": "stream",
          "name": "stderr",
          "text": [
            "[nltk_data] Downloading package punkt to /root/nltk_data...\n",
            "[nltk_data]   Package punkt is already up-to-date!\n",
            "[nltk_data] Downloading package punkt_tab to /root/nltk_data...\n",
            "[nltk_data]   Package punkt_tab is already up-to-date!\n"
          ]
        },
        {
          "output_type": "execute_result",
          "data": {
            "text/plain": [
              "True"
            ]
          },
          "metadata": {},
          "execution_count": 17
        }
      ],
      "source": [
        "import nltk\n",
        "# print(nltk.data.path)\n",
        "nltk.download('punkt')\n",
        "nltk.download('punkt_tab')"
      ]
    },
    {
      "cell_type": "code",
      "execution_count": 18,
      "metadata": {
        "id": "i2JdLZQZU9n2",
        "colab": {
          "base_uri": "https://localhost:8080/"
        },
        "outputId": "74fe238b-341f-4cd5-c9f0-2a7c57bc75f2"
      },
      "outputs": [
        {
          "output_type": "stream",
          "name": "stdout",
          "text": [
            "listening toconversation doctor parents 10-year-old oscar learns nobody courage tell hasfew weeks live furious refuses speak anyone except straight-talking rose lady pink meets hospital stairs christmas approaches rose uses fantastical experiences asprofessional wrestler imagination wit charm allow oscar live life love full company friends pop corn einstein bacon childhood sweetheart peggy blue\n"
          ]
        }
      ],
      "source": [
        "print(clean(train_data['description'][0]))"
      ]
    },
    {
      "cell_type": "markdown",
      "metadata": {
        "id": "YYUJjuo6Wc_w"
      },
      "source": [
        "### Applying text cleaning function to the 'description' column"
      ]
    },
    {
      "cell_type": "code",
      "execution_count": 19,
      "metadata": {
        "id": "qyt6OCLCWkwd"
      },
      "outputs": [],
      "source": [
        "train_data['processed_plot'] = train_data['description'].apply(clean)\n",
        "df_test['processed_plot'] = df_test['description'].apply(clean)"
      ]
    },
    {
      "cell_type": "markdown",
      "metadata": {
        "id": "CDuTnlDNXn3e"
      },
      "source": [
        "### Combining movie title and processed plot into a single input Feature"
      ]
    },
    {
      "cell_type": "code",
      "execution_count": 20,
      "metadata": {
        "id": "Ol6JON8cX0Dx",
        "colab": {
          "base_uri": "https://localhost:8080/"
        },
        "outputId": "89628378-206f-428e-fd27-b516a962ee71"
      },
      "outputs": [
        {
          "output_type": "stream",
          "name": "stdout",
          "text": [
            "(108414,)\n"
          ]
        }
      ],
      "source": [
        "train_data['input'] = train_data['title'] + \" \" + train_data['processed_plot']\n",
        "df_test['input'] = df_test['title'] + \" \" + df_test['processed_plot']\n",
        "\n",
        "all_text = pd.concat([train_data['input'], df_test['input']])\n",
        "print(all_text.shape)"
      ]
    },
    {
      "cell_type": "markdown",
      "metadata": {
        "id": "P720ZRiTZBgt"
      },
      "source": [
        "## Calculating and comparing the average length of text before and after cleaning"
      ]
    },
    {
      "cell_type": "code",
      "execution_count": 21,
      "metadata": {
        "id": "lcppzD0LZbgO",
        "colab": {
          "base_uri": "https://localhost:8080/"
        },
        "outputId": "435da2e2-9f4d-4ba2-cabb-57ba020be07d"
      },
      "outputs": [
        {
          "output_type": "stream",
          "name": "stdout",
          "text": [
            "Average length of the text before cleaning in training data: 600.4524292618142\n",
            "Average length of the text after cleaning in training data: 417.2758881469731\n"
          ]
        }
      ],
      "source": [
        "length = (train_data['description'].apply(lambda x: len(str(x)))).mean()\n",
        "cleaned_length = (train_data['processed_plot'].apply(lambda x: len(str(x)))).mean()\n",
        "\n",
        "print(\"Average length of the text before cleaning in training data:\", length)\n",
        "print(\"Average length of the text after cleaning in training data:\", cleaned_length)"
      ]
    },
    {
      "cell_type": "markdown",
      "metadata": {
        "id": "RknE_wZ6ac6O"
      },
      "source": [
        "### Visualizing the average length of text data before and after cleaning"
      ]
    },
    {
      "cell_type": "code",
      "execution_count": 22,
      "metadata": {
        "id": "kOXqy3JFal2f",
        "colab": {
          "base_uri": "https://localhost:8080/",
          "height": 410
        },
        "outputId": "2c5c0300-5cd8-4907-d585-ae5c7ff6d3f9"
      },
      "outputs": [
        {
          "output_type": "display_data",
          "data": {
            "text/plain": [
              "<Figure size 800x400 with 1 Axes>"
            ],
            "image/png": "[encoded data removed]"
          },
          "metadata": {}
        }
      ],
      "source": [
        "#list of values and labe;s\n",
        "values = [length, cleaned_length]\n",
        "labels = ['Old', 'New']\n",
        "\n",
        "#plotting bar graph\n",
        "plt.figure(figsize=(8,4))\n",
        "plt.bar(labels, values, color=['red', 'blue'])\n",
        "plt.xlabel(\"Type of Data\")\n",
        "plt.ylabel(\"Average Length\")\n",
        "plt.title(\"Length of text data before and after cleaning of data\")\n",
        "plt.show()"
      ]
    },
    {
      "cell_type": "markdown",
      "metadata": {
        "id": "Fp-Wipy1c2aG"
      },
      "source": [
        "## Calculating genre frequency in the data"
      ]
    },
    {
      "cell_type": "markdown",
      "metadata": {
        "id": "gyGr2O6RmyY0"
      },
      "source": [
        "### Randomly truncating long text in the processed plot column"
      ]
    },
    {
      "cell_type": "code",
      "execution_count": 23,
      "metadata": {
        "id": "ICKeXVpmm3Ne"
      },
      "outputs": [],
      "source": [
        "train_data['processed_plot'] = train_data['processed_plot'].apply(lambda x: x[:np.random.randint(250,2000)] if len(x)>2000 else x)"
      ]
    },
    {
      "cell_type": "code",
      "execution_count": 24,
      "metadata": {
        "id": "kxyyp1DRnPxJ",
        "colab": {
          "base_uri": "https://localhost:8080/",
          "height": 70
        },
        "outputId": "ffd742cf-a10d-4286-c250-4accdbbab83b"
      },
      "outputs": [
        {
          "output_type": "execute_result",
          "data": {
            "text/plain": [
              "'listening toconversation doctor parents 10-year-old oscar learns nobody courage tell hasfew weeks live furious refuses speak anyone except straight-talking rose lady pink meets hospital stairs christmas approaches rose uses fantastical experiences asprofessional wrestler imagination wit charm allow oscar live life love full company friends pop corn einstein bacon childhood sweetheart peggy blue'"
            ],
            "application/vnd.google.colaboratory.intrinsic+json": {
              "type": "string"
            }
          },
          "metadata": {},
          "execution_count": 24
        }
      ],
      "source": [
        "train_data['processed_plot'][0]"
      ]
    },
    {
      "cell_type": "markdown",
      "metadata": {
        "id": "JrpwdMCzng50"
      },
      "source": [
        "### Counting frequency of each genre in train_data"
      ]
    },
    {
      "cell_type": "code",
      "execution_count": 25,
      "metadata": {
        "id": "TNu17Qs-nkye"
      },
      "outputs": [],
      "source": [
        "genre_freq = train_data['genre'].value_counts()"
      ]
    },
    {
      "cell_type": "markdown",
      "metadata": {
        "id": "xDawl8NYn2A3"
      },
      "source": [
        "### Visualizing genre distribution with a bar *graph*"
      ]
    },
    {
      "cell_type": "code",
      "execution_count": 26,
      "metadata": {
        "id": "CYBT6Q4Ln932",
        "colab": {
          "base_uri": "https://localhost:8080/",
          "height": 651
        },
        "outputId": "a293c5d5-b7ee-4628-9d75-4809eb694f29"
      },
      "outputs": [
        {
          "output_type": "display_data",
          "data": {
            "text/plain": [
              "<Figure size 1000x600 with 1 Axes>"
            ],
            "image/png": "[encoded data removed]"
          },
          "metadata": {}
        }
      ],
      "source": [
        "#plotting the bar graph\n",
        "plt.figure(figsize=(10,6))\n",
        "genre_freq.plot(kind='bar', color='orange')\n",
        "plt.ylabel('Frequency')\n",
        "plt.title('Per Genre Distribution')\n",
        "plt.show()"
      ]
    },
    {
      "cell_type": "markdown",
      "metadata": {
        "id": "hGzVRmWudIdG"
      },
      "source": [
        "## Creating feature column"
      ]
    },
    {
      "cell_type": "markdown",
      "metadata": {
        "id": "i4PrSysyowDd"
      },
      "source": [
        "### Merging movie title and plot together"
      ]
    },
    {
      "cell_type": "code",
      "execution_count": 27,
      "metadata": {
        "id": "DVTXH-3wo67X",
        "colab": {
          "base_uri": "https://localhost:8080/",
          "height": 337
        },
        "outputId": "e87de672-de99-42eb-fb3b-449e178aa3c7"
      },
      "outputs": [
        {
          "output_type": "execute_result",
          "data": {
            "text/plain": [
              "   id                           title       genre  \\\n",
              "0   1   Oscar et la dame rose (2009)       drama    \n",
              "1   2                   Cupid (1997)    thriller    \n",
              "\n",
              "                                                                                                                                                                                                                                                                                                                                                                                                                                                                                                                                                          description  \\\n",
              "0   Listening in to a conversation between his doctor and parents, 10-year-old Oscar learns what nobody has the courage to tell him. He only has a few weeks to live. Furious, he refuses to speak to anyone except straight-talking Rose, the lady in pink he meets on the hospital stairs. As Christmas approaches, Rose uses her fantastical experiences as a professional wrestler, her imagination, wit and charm to allow Oscar to live life and love to the full, in the company of his friends Pop Corn, Einstein, Bacon and childhood sweetheart Peggy Blue.   \n",
              "1                                                                                                                                                                                                                                                                                                                                                                             A brother and sister with a past incestuous relationship have a current murderous relationship. He murders the women who reject him and she murders the women who get too close to him.   \n",
              "\n",
              "                                                                                                                                                                                                                                                                                                                                                                                                  processed_plot  \\\n",
              "0  listening toconversation doctor parents 10-year-old oscar learns nobody courage tell hasfew weeks live furious refuses speak anyone except straight-talking rose lady pink meets hospital stairs christmas approaches rose uses fantastical experiences asprofessional wrestler imagination wit charm allow oscar live life love full company friends pop corn einstein bacon childhood sweetheart peggy blue   \n",
              "1                                                                                                                                                                                                                                                                                brother sister withpast incestuous relationship havecurrent murderous relationship murders women reject murders women get close   \n",
              "\n",
              "                                                                                                                                                                                                                                                                                                                                                                                                                                          input  \n",
              "0   Oscar et la dame rose (2009)  listening toconversation doctor parents 10-year-old oscar learns nobody courage tell hasfew weeks live furious refuses speak anyone except straight-talking rose lady pink meets hospital stairs christmas approaches rose uses fantastical experiences asprofessional wrestler imagination wit charm allow oscar live life love full company friends pop corn einstein bacon childhood sweetheart peggy blue  \n",
              "1                                                                                                                                                                                                                                                                                                 Cupid (1997)  brother sister withpast incestuous relationship havecurrent murderous relationship murders women reject murders women get close  "
            ],
            "text/html": [
              "\n",
              "  <div id=\"df-2511f172-22a2-49cb-bbd3-2f7232b15302\" class=\"colab-df-container\">\n",
              "    <div>\n",
              "<style scoped>\n",
              "    .dataframe tbody tr th:only-of-type {\n",
              "        vertical-align: middle;\n",
              "    }\n",
              "\n",
              "    .dataframe tbody tr th {\n",
              "        vertical-align: top;\n",
              "    }\n",
              "\n",
              "    .dataframe thead th {\n",
              "        text-align: right;\n",
              "    }\n",
              "</style>\n",
              "<table border=\"1\" class=\"dataframe\">\n",
              "  <thead>\n",
              "    <tr style=\"text-align: right;\">\n",
              "      <th></th>\n",
              "      <th>id</th>\n",
              "      <th>title</th>\n",
              "      <th>genre</th>\n",
              "      <th>description</th>\n",
              "      <th>processed_plot</th>\n",
              "      <th>input</th>\n",
              "    </tr>\n",
              "  </thead>\n",
              "  <tbody>\n",
              "    <tr>\n",
              "      <th>0</th>\n",
              "      <td>1</td>\n",
              "      <td>Oscar et la dame rose (2009)</td>\n",
              "      <td>drama</td>\n",
              "      <td>Listening in to a conversation between his doctor and parents, 10-year-old Oscar learns what nobody has the courage to tell him. He only has a few weeks to live. Furious, he refuses to speak to anyone except straight-talking Rose, the lady in pink he meets on the hospital stairs. As Christmas approaches, Rose uses her fantastical experiences as a professional wrestler, her imagination, wit and charm to allow Oscar to live life and love to the full, in the company of his friends Pop Corn, Einstein, Bacon and childhood sweetheart Peggy Blue.</td>\n",
              "      <td>listening toconversation doctor parents 10-year-old oscar learns nobody courage tell hasfew weeks live furious refuses speak anyone except straight-talking rose lady pink meets hospital stairs christmas approaches rose uses fantastical experiences asprofessional wrestler imagination wit charm allow oscar live life love full company friends pop corn einstein bacon childhood sweetheart peggy blue</td>\n",
              "      <td>Oscar et la dame rose (2009)  listening toconversation doctor parents 10-year-old oscar learns nobody courage tell hasfew weeks live furious refuses speak anyone except straight-talking rose lady pink meets hospital stairs christmas approaches rose uses fantastical experiences asprofessional wrestler imagination wit charm allow oscar live life love full company friends pop corn einstein bacon childhood sweetheart peggy blue</td>\n",
              "    </tr>\n",
              "    <tr>\n",
              "      <th>1</th>\n",
              "      <td>2</td>\n",
              "      <td>Cupid (1997)</td>\n",
              "      <td>thriller</td>\n",
              "      <td>A brother and sister with a past incestuous relationship have a current murderous relationship. He murders the women who reject him and she murders the women who get too close to him.</td>\n",
              "      <td>brother sister withpast incestuous relationship havecurrent murderous relationship murders women reject murders women get close</td>\n",
              "      <td>Cupid (1997)  brother sister withpast incestuous relationship havecurrent murderous relationship murders women reject murders women get close</td>\n",
              "    </tr>\n",
              "  </tbody>\n",
              "</table>\n",
              "</div>\n",
              "    <div class=\"colab-df-buttons\">\n",
              "\n",
              "  <div class=\"colab-df-container\">\n",
              "    <button class=\"colab-df-convert\" onclick=\"convertToInteractive('df-2511f172-22a2-49cb-bbd3-2f7232b15302')\"\n",
              "            title=\"Convert this dataframe to an interactive table.\"\n",
              "            style=\"display:none;\">\n",
              "\n",
              "  <svg xmlns=\"http://www.w3.org/2000/svg\" height=\"24px\" viewBox=\"0 -960 960 960\">\n",
              "    <path d=\"M120-120v-720h720v720H120Zm60-500h600v-160H180v160Zm220 220h160v-160H400v160Zm0 220h160v-160H400v160ZM180-400h160v-160H180v160Zm440 0h160v-160H620v160ZM180-180h160v-160H180v160Zm440 0h160v-160H620v160Z\"/>\n",
              "  </svg>\n",
              "    </button>\n",
              "\n",
              "  <style>\n",
              "    .colab-df-container {\n",
              "      display:flex;\n",
              "      gap: 12px;\n",
              "    }\n",
              "\n",
              "    .colab-df-convert {\n",
              "      background-color: #E8F0FE;\n",
              "      border: none;\n",
              "      border-radius: 50%;\n",
              "      cursor: pointer;\n",
              "      display: none;\n",
              "      fill: #1967D2;\n",
              "      height: 32px;\n",
              "      padding: 0 0 0 0;\n",
              "      width: 32px;\n",
              "    }\n",
              "\n",
              "    .colab-df-convert:hover {\n",
              "      background-color: #E2EBFA;\n",
              "      box-shadow: 0px 1px 2px rgba(60, 64, 67, 0.3), 0px 1px 3px 1px rgba(60, 64, 67, 0.15);\n",
              "      fill: #174EA6;\n",
              "    }\n",
              "\n",
              "    .colab-df-buttons div {\n",
              "      margin-bottom: 4px;\n",
              "    }\n",
              "\n",
              "    [theme=dark] .colab-df-convert {\n",
              "      background-color: #3B4455;\n",
              "      fill: #D2E3FC;\n",
              "    }\n",
              "\n",
              "    [theme=dark] .colab-df-convert:hover {\n",
              "      background-color: #434B5C;\n",
              "      box-shadow: 0px 1px 3px 1px rgba(0, 0, 0, 0.15);\n",
              "      filter: drop-shadow(0px 1px 2px rgba(0, 0, 0, 0.3));\n",
              "      fill: #FFFFFF;\n",
              "    }\n",
              "  </style>\n",
              "\n",
              "    <script>\n",
              "      const buttonEl =\n",
              "        document.querySelector('#df-2511f172-22a2-49cb-bbd3-2f7232b15302 button.colab-df-convert');\n",
              "      buttonEl.style.display =\n",
              "        google.colab.kernel.accessAllowed ? 'block' : 'none';\n",
              "\n",
              "      async function convertToInteractive(key) {\n",
              "        const element = document.querySelector('#df-2511f172-22a2-49cb-bbd3-2f7232b15302');\n",
              "        const dataTable =\n",
              "          await google.colab.kernel.invokeFunction('convertToInteractive',\n",
              "                                                    [key], {});\n",
              "        if (!dataTable) return;\n",
              "\n",
              "        const docLinkHtml = 'Like what you see? Visit the ' +\n",
              "          '<a target=\"_blank\" href=https://colab.research.google.com/notebooks/data_table.ipynb>data table notebook</a>'\n",
              "          + ' to learn more about interactive tables.';\n",
              "        element.innerHTML = '';\n",
              "        dataTable['output_type'] = 'display_data';\n",
              "        await google.colab.output.renderOutput(dataTable, element);\n",
              "        const docLink = document.createElement('div');\n",
              "        docLink.innerHTML = docLinkHtml;\n",
              "        element.appendChild(docLink);\n",
              "      }\n",
              "    </script>\n",
              "  </div>\n",
              "\n",
              "\n",
              "<div id=\"df-fa15b0fd-7cdb-4ccd-aa83-6844e50ba93f\">\n",
              "  <button class=\"colab-df-quickchart\" onclick=\"quickchart('df-fa15b0fd-7cdb-4ccd-aa83-6844e50ba93f')\"\n",
              "            title=\"Suggest charts\"\n",
              "            style=\"display:none;\">\n",
              "\n",
              "<svg xmlns=\"http://www.w3.org/2000/svg\" height=\"24px\"viewBox=\"0 0 24 24\"\n",
              "     width=\"24px\">\n",
              "    <g>\n",
              "        <path d=\"M19 3H5c-1.1 0-2 .9-2 2v14c0 1.1.9 2 2 2h14c1.1 0 2-.9 2-2V5c0-1.1-.9-2-2-2zM9 17H7v-7h2v7zm4 0h-2V7h2v10zm4 0h-2v-4h2v4z\"/>\n",
              "    </g>\n",
              "</svg>\n",
              "  </button>\n",
              "\n",
              "<style>\n",
              "  .colab-df-quickchart {\n",
              "      --bg-color: #E8F0FE;\n",
              "      --fill-color: #1967D2;\n",
              "      --hover-bg-color: #E2EBFA;\n",
              "      --hover-fill-color: #174EA6;\n",
              "      --disabled-fill-color: #AAA;\n",
              "      --disabled-bg-color: #DDD;\n",
              "  }\n",
              "\n",
              "  [theme=dark] .colab-df-quickchart {\n",
              "      --bg-color: #3B4455;\n",
              "      --fill-color: #D2E3FC;\n",
              "      --hover-bg-color: #434B5C;\n",
              "      --hover-fill-color: #FFFFFF;\n",
              "      --disabled-bg-color: #3B4455;\n",
              "      --disabled-fill-color: #666;\n",
              "  }\n",
              "\n",
              "  .colab-df-quickchart {\n",
              "    background-color: var(--bg-color);\n",
              "    border: none;\n",
              "    border-radius: 50%;\n",
              "    cursor: pointer;\n",
              "    display: none;\n",
              "    fill: var(--fill-color);\n",
              "    height: 32px;\n",
              "    padding: 0;\n",
              "    width: 32px;\n",
              "  }\n",
              "\n",
              "  .colab-df-quickchart:hover {\n",
              "    background-color: var(--hover-bg-color);\n",
              "    box-shadow: 0 1px 2px rgba(60, 64, 67, 0.3), 0 1px 3px 1px rgba(60, 64, 67, 0.15);\n",
              "    fill: var(--button-hover-fill-color);\n",
              "  }\n",
              "\n",
              "  .colab-df-quickchart-complete:disabled,\n",
              "  .colab-df-quickchart-complete:disabled:hover {\n",
              "    background-color: var(--disabled-bg-color);\n",
              "    fill: var(--disabled-fill-color);\n",
              "    box-shadow: none;\n",
              "  }\n",
              "\n",
              "  .colab-df-spinner {\n",
              "    border: 2px solid var(--fill-color);\n",
              "    border-color: transparent;\n",
              "    border-bottom-color: var(--fill-color);\n",
              "    animation:\n",
              "      spin 1s steps(1) infinite;\n",
              "  }\n",
              "\n",
              "  @keyframes spin {\n",
              "    0% {\n",
              "      border-color: transparent;\n",
              "      border-bottom-color: var(--fill-color);\n",
              "      border-left-color: var(--fill-color);\n",
              "    }\n",
              "    20% {\n",
              "      border-color: transparent;\n",
              "      border-left-color: var(--fill-color);\n",
              "      border-top-color: var(--fill-color);\n",
              "    }\n",
              "    30% {\n",
              "      border-color: transparent;\n",
              "      border-left-color: var(--fill-color);\n",
              "      border-top-color: var(--fill-color);\n",
              "      border-right-color: var(--fill-color);\n",
              "    }\n",
              "    40% {\n",
              "      border-color: transparent;\n",
              "      border-right-color: var(--fill-color);\n",
              "      border-top-color: var(--fill-color);\n",
              "    }\n",
              "    60% {\n",
              "      border-color: transparent;\n",
              "      border-right-color: var(--fill-color);\n",
              "    }\n",
              "    80% {\n",
              "      border-color: transparent;\n",
              "      border-right-color: var(--fill-color);\n",
              "      border-bottom-color: var(--fill-color);\n",
              "    }\n",
              "    90% {\n",
              "      border-color: transparent;\n",
              "      border-bottom-color: var(--fill-color);\n",
              "    }\n",
              "  }\n",
              "</style>\n",
              "\n",
              "  <script>\n",
              "    async function quickchart(key) {\n",
              "      const quickchartButtonEl =\n",
              "        document.querySelector('#' + key + ' button');\n",
              "      quickchartButtonEl.disabled = true;  // To prevent multiple clicks.\n",
              "      quickchartButtonEl.classList.add('colab-df-spinner');\n",
              "      try {\n",
              "        const charts = await google.colab.kernel.invokeFunction(\n",
              "            'suggestCharts', [key], {});\n",
              "      } catch (error) {\n",
              "        console.error('Error during call to suggestCharts:', error);\n",
              "      }\n",
              "      quickchartButtonEl.classList.remove('colab-df-spinner');\n",
              "      quickchartButtonEl.classList.add('colab-df-quickchart-complete');\n",
              "    }\n",
              "    (() => {\n",
              "      let quickchartButtonEl =\n",
              "        document.querySelector('#df-fa15b0fd-7cdb-4ccd-aa83-6844e50ba93f button');\n",
              "      quickchartButtonEl.style.display =\n",
              "        google.colab.kernel.accessAllowed ? 'block' : 'none';\n",
              "    })();\n",
              "  </script>\n",
              "</div>\n",
              "\n",
              "    </div>\n",
              "  </div>\n"
            ],
            "application/vnd.google.colaboratory.intrinsic+json": {
              "type": "dataframe",
              "variable_name": "train_data",
              "summary": "{\n  \"name\": \"train_data\",\n  \"rows\": 54214,\n  \"fields\": [\n    {\n      \"column\": \"id\",\n      \"properties\": {\n        \"dtype\": \"number\",\n        \"std\": 15650,\n        \"min\": 1,\n        \"max\": 54214,\n        \"num_unique_values\": 54214,\n        \"samples\": [\n          5090,\n          30324,\n          6416\n        ],\n        \"semantic_type\": \"\",\n        \"description\": \"\"\n      }\n    },\n    {\n      \"column\": \"title\",\n      \"properties\": {\n        \"dtype\": \"string\",\n        \"num_unique_values\": 54214,\n        \"samples\": [\n          \" Sisterhood (2008) \",\n          \" Idylle (1983) \",\n          \" The Lost Skeleton Returns Again (2009) \"\n        ],\n        \"semantic_type\": \"\",\n        \"description\": \"\"\n      }\n    },\n    {\n      \"column\": \"genre\",\n      \"properties\": {\n        \"dtype\": \"category\",\n        \"num_unique_values\": 27,\n        \"samples\": [\n          \" sport \",\n          \" sci-fi \",\n          \" animation \"\n        ],\n        \"semantic_type\": \"\",\n        \"description\": \"\"\n      }\n    },\n    {\n      \"column\": \"description\",\n      \"properties\": {\n        \"dtype\": \"string\",\n        \"num_unique_values\": 54086,\n        \"samples\": [\n          \" When a celestial event causes a depressed call centre employee to gain amazing abilities, he is told that he is actually the reincarnation of a powerful warrior. With his new-found ally, he must find out who he must become before the forces who seek his destruction find him.\",\n          \" Set against a lush Western Indian landscape during the monsoon season, CHITRAKUT delicately sets the tone, interweaving the lives of Saloni, Shaan, Debu, Alisha and Kim - all converging at different intersections of life, discovering the meaning of love, encapsulating fractured feelings, consumption of romantic longing and fleeting moments.\",\n          \" It is just after midnight. A family is fast asleep on a vast sofa in\\u00a0front of a television. They are woken abruptly by the sound track of the film they are watching, and find themselves being quite literally\\u00a0moved by the exhilarating sounds and images emanating from the\\u00a0screen.\"\n        ],\n        \"semantic_type\": \"\",\n        \"description\": \"\"\n      }\n    },\n    {\n      \"column\": \"processed_plot\",\n      \"properties\": {\n        \"dtype\": \"string\",\n        \"num_unique_values\": 54079,\n        \"samples\": [\n          \"documentary gives notes downey lynch silver kassovitz libatique henry co-producer richard mirisch senior visual effects supervisor david ebner digital effects supervisor jeff goldman fire explosion developer timur taron bayal visual effects artist votch lei cover digital effects general emphasis computer-generated fire ghostly elements\",\n          \"ladyfesto shot ladyfest philly march 2003. main organizers interviewed well artists attendees talk war iraq broke festival started feminism arts crafts consensus-based organizing inclusion sisterly city philadelphia account festival andguide diy political artistic organizing\",\n          \"time running living last days coming messiah ambassadors mashiach directed inspired led spirit god prophetic word sent nations tell people get ready coming says lord experience love power true living god witness prophetic events took place last blood moon film features many influential leaders across world israel nations\"\n        ],\n        \"semantic_type\": \"\",\n        \"description\": \"\"\n      }\n    },\n    {\n      \"column\": \"input\",\n      \"properties\": {\n        \"dtype\": \"string\",\n        \"num_unique_values\": 54214,\n        \"samples\": [\n          \" Sisterhood (2008)  catherine st.john-burke independent uptight status obsessed sophisticated british woman living alone london chelsea favors affair withmarried man world turned upside comes home one day discover uneducated kiwi woman hairy legs drinking beer living room shirley zachary claims catherine long lost half-sister father catherine thought died waschild still alive trying make claims properties following death mothers furious frustrated shirley refusal 'disappear shirley reluctantly agrees undertakedna test catherine horror results concludes indeed related girls agree work together track 'con-man trapped 70s father order get rightful ownership inheritance course hiding local mob jack easy man find begin followingman called 'sir crawford hilarious consequences\",\n          \" Idylle (1983)  beginning century intrain young woman comes paris asnurse front young man also wants join capital asmason soon lady complains discomfort pain given breast since yesterday finally man proposes help pour overflow milk three days since eaten anything\",\n          \" The Lost Skeleton Returns Again (2009)  jerranium little rock made papers buried deep within amazon everybody wants including crooked importer handscomb draile slimy gondreau slykes cheap crook carl traeger evil scientist dr. ellamy royne\"\n        ],\n        \"semantic_type\": \"\",\n        \"description\": \"\"\n      }\n    }\n  ]\n}"
            }
          },
          "metadata": {},
          "execution_count": 27
        }
      ],
      "source": [
        "train_data.head(2)"
      ]
    },
    {
      "cell_type": "markdown",
      "metadata": {
        "id": "GUF6xOzYpZUz"
      },
      "source": [
        "### Removing the 'plot' column from training and testing df"
      ]
    },
    {
      "cell_type": "code",
      "execution_count": 28,
      "metadata": {
        "id": "--CkA_hIpjBf"
      },
      "outputs": [],
      "source": [
        "train_data.drop(columns=['description'], inplace=True)\n",
        "df_test.drop(columns=['description'], inplace=True)"
      ]
    },
    {
      "cell_type": "markdown",
      "metadata": {
        "id": "uRtbDZrTp9r0"
      },
      "source": [
        "### Combining title and processepd plot into a single feature column"
      ]
    },
    {
      "cell_type": "code",
      "execution_count": 29,
      "metadata": {
        "id": "YBeidhICqBQr"
      },
      "outputs": [],
      "source": [
        "train_data['input'] = train_data['title'] + \" \" + train_data['processed_plot']\n",
        "df_test['input'] = df_test['title'] + \" \" + df_test['processed_plot']"
      ]
    },
    {
      "cell_type": "code",
      "execution_count": 30,
      "metadata": {
        "id": "aFJHvdciqcmp",
        "colab": {
          "base_uri": "https://localhost:8080/",
          "height": 237
        },
        "outputId": "4afe9f2e-8751-4125-8015-75afea0502ab"
      },
      "outputs": [
        {
          "output_type": "execute_result",
          "data": {
            "text/plain": [
              "        id                title     genre  \\\n",
              "5130  5131   Lovehotels (2006)    comedy    \n",
              "\n",
              "                                                                                                                                                                                                                                                                                                                                                                                                                                                                                                                                                                                           processed_plot  \\\n",
              "5130  four girls lovehotel ...... keepssecret two boyfriends went boys room christmas sakura toru friends school days although toru married misaki sakura affair toru sachi taku friends keep relationships sex friends n't like sex love father lovehotel owner watches many lovers bad relationships four girls lovehotels ...... keepssecret two boyfriends went boys room christmas sakura toru friends school days although toru married misaki sakura affair toru sachi taku friends keep relationships sex friends n't like sex love father lovehotels owner watches many lovers bad relationships   \n",
              "\n",
              "                                                                                                                                                                                                                                                                                                                                                                                                                                                                                                                                                                                                                        input  \n",
              "5130   Lovehotels (2006)  four girls lovehotel ...... keepssecret two boyfriends went boys room christmas sakura toru friends school days although toru married misaki sakura affair toru sachi taku friends keep relationships sex friends n't like sex love father lovehotel owner watches many lovers bad relationships four girls lovehotels ...... keepssecret two boyfriends went boys room christmas sakura toru friends school days although toru married misaki sakura affair toru sachi taku friends keep relationships sex friends n't like sex love father lovehotels owner watches many lovers bad relationships  "
            ],
            "text/html": [
              "\n",
              "  <div id=\"df-5dcfff9b-ed4d-4180-9fb8-367197a72a0b\" class=\"colab-df-container\">\n",
              "    <div>\n",
              "<style scoped>\n",
              "    .dataframe tbody tr th:only-of-type {\n",
              "        vertical-align: middle;\n",
              "    }\n",
              "\n",
              "    .dataframe tbody tr th {\n",
              "        vertical-align: top;\n",
              "    }\n",
              "\n",
              "    .dataframe thead th {\n",
              "        text-align: right;\n",
              "    }\n",
              "</style>\n",
              "<table border=\"1\" class=\"dataframe\">\n",
              "  <thead>\n",
              "    <tr style=\"text-align: right;\">\n",
              "      <th></th>\n",
              "      <th>id</th>\n",
              "      <th>title</th>\n",
              "      <th>genre</th>\n",
              "      <th>processed_plot</th>\n",
              "      <th>input</th>\n",
              "    </tr>\n",
              "  </thead>\n",
              "  <tbody>\n",
              "    <tr>\n",
              "      <th>5130</th>\n",
              "      <td>5131</td>\n",
              "      <td>Lovehotels (2006)</td>\n",
              "      <td>comedy</td>\n",
              "      <td>four girls lovehotel ...... keepssecret two boyfriends went boys room christmas sakura toru friends school days although toru married misaki sakura affair toru sachi taku friends keep relationships sex friends n't like sex love father lovehotel owner watches many lovers bad relationships four girls lovehotels ...... keepssecret two boyfriends went boys room christmas sakura toru friends school days although toru married misaki sakura affair toru sachi taku friends keep relationships sex friends n't like sex love father lovehotels owner watches many lovers bad relationships</td>\n",
              "      <td>Lovehotels (2006)  four girls lovehotel ...... keepssecret two boyfriends went boys room christmas sakura toru friends school days although toru married misaki sakura affair toru sachi taku friends keep relationships sex friends n't like sex love father lovehotel owner watches many lovers bad relationships four girls lovehotels ...... keepssecret two boyfriends went boys room christmas sakura toru friends school days although toru married misaki sakura affair toru sachi taku friends keep relationships sex friends n't like sex love father lovehotels owner watches many lovers bad relationships</td>\n",
              "    </tr>\n",
              "  </tbody>\n",
              "</table>\n",
              "</div>\n",
              "    <div class=\"colab-df-buttons\">\n",
              "\n",
              "  <div class=\"colab-df-container\">\n",
              "    <button class=\"colab-df-convert\" onclick=\"convertToInteractive('df-5dcfff9b-ed4d-4180-9fb8-367197a72a0b')\"\n",
              "            title=\"Convert this dataframe to an interactive table.\"\n",
              "            style=\"display:none;\">\n",
              "\n",
              "  <svg xmlns=\"http://www.w3.org/2000/svg\" height=\"24px\" viewBox=\"0 -960 960 960\">\n",
              "    <path d=\"M120-120v-720h720v720H120Zm60-500h600v-160H180v160Zm220 220h160v-160H400v160Zm0 220h160v-160H400v160ZM180-400h160v-160H180v160Zm440 0h160v-160H620v160ZM180-180h160v-160H180v160Zm440 0h160v-160H620v160Z\"/>\n",
              "  </svg>\n",
              "    </button>\n",
              "\n",
              "  <style>\n",
              "    .colab-df-container {\n",
              "      display:flex;\n",
              "      gap: 12px;\n",
              "    }\n",
              "\n",
              "    .colab-df-convert {\n",
              "      background-color: #E8F0FE;\n",
              "      border: none;\n",
              "      border-radius: 50%;\n",
              "      cursor: pointer;\n",
              "      display: none;\n",
              "      fill: #1967D2;\n",
              "      height: 32px;\n",
              "      padding: 0 0 0 0;\n",
              "      width: 32px;\n",
              "    }\n",
              "\n",
              "    .colab-df-convert:hover {\n",
              "      background-color: #E2EBFA;\n",
              "      box-shadow: 0px 1px 2px rgba(60, 64, 67, 0.3), 0px 1px 3px 1px rgba(60, 64, 67, 0.15);\n",
              "      fill: #174EA6;\n",
              "    }\n",
              "\n",
              "    .colab-df-buttons div {\n",
              "      margin-bottom: 4px;\n",
              "    }\n",
              "\n",
              "    [theme=dark] .colab-df-convert {\n",
              "      background-color: #3B4455;\n",
              "      fill: #D2E3FC;\n",
              "    }\n",
              "\n",
              "    [theme=dark] .colab-df-convert:hover {\n",
              "      background-color: #434B5C;\n",
              "      box-shadow: 0px 1px 3px 1px rgba(0, 0, 0, 0.15);\n",
              "      filter: drop-shadow(0px 1px 2px rgba(0, 0, 0, 0.3));\n",
              "      fill: #FFFFFF;\n",
              "    }\n",
              "  </style>\n",
              "\n",
              "    <script>\n",
              "      const buttonEl =\n",
              "        document.querySelector('#df-5dcfff9b-ed4d-4180-9fb8-367197a72a0b button.colab-df-convert');\n",
              "      buttonEl.style.display =\n",
              "        google.colab.kernel.accessAllowed ? 'block' : 'none';\n",
              "\n",
              "      async function convertToInteractive(key) {\n",
              "        const element = document.querySelector('#df-5dcfff9b-ed4d-4180-9fb8-367197a72a0b');\n",
              "        const dataTable =\n",
              "          await google.colab.kernel.invokeFunction('convertToInteractive',\n",
              "                                                    [key], {});\n",
              "        if (!dataTable) return;\n",
              "\n",
              "        const docLinkHtml = 'Like what you see? Visit the ' +\n",
              "          '<a target=\"_blank\" href=https://colab.research.google.com/notebooks/data_table.ipynb>data table notebook</a>'\n",
              "          + ' to learn more about interactive tables.';\n",
              "        element.innerHTML = '';\n",
              "        dataTable['output_type'] = 'display_data';\n",
              "        await google.colab.output.renderOutput(dataTable, element);\n",
              "        const docLink = document.createElement('div');\n",
              "        docLink.innerHTML = docLinkHtml;\n",
              "        element.appendChild(docLink);\n",
              "      }\n",
              "    </script>\n",
              "  </div>\n",
              "\n",
              "\n",
              "    </div>\n",
              "  </div>\n"
            ],
            "application/vnd.google.colaboratory.intrinsic+json": {
              "type": "dataframe",
              "summary": "{\n  \"name\": \"train_data\",\n  \"rows\": 1,\n  \"fields\": [\n    {\n      \"column\": \"id\",\n      \"properties\": {\n        \"dtype\": \"number\",\n        \"std\": null,\n        \"min\": 5131,\n        \"max\": 5131,\n        \"num_unique_values\": 1,\n        \"samples\": [\n          5131\n        ],\n        \"semantic_type\": \"\",\n        \"description\": \"\"\n      }\n    },\n    {\n      \"column\": \"title\",\n      \"properties\": {\n        \"dtype\": \"string\",\n        \"num_unique_values\": 1,\n        \"samples\": [\n          \" Lovehotels (2006) \"\n        ],\n        \"semantic_type\": \"\",\n        \"description\": \"\"\n      }\n    },\n    {\n      \"column\": \"genre\",\n      \"properties\": {\n        \"dtype\": \"string\",\n        \"num_unique_values\": 1,\n        \"samples\": [\n          \" comedy \"\n        ],\n        \"semantic_type\": \"\",\n        \"description\": \"\"\n      }\n    },\n    {\n      \"column\": \"processed_plot\",\n      \"properties\": {\n        \"dtype\": \"string\",\n        \"num_unique_values\": 1,\n        \"samples\": [\n          \"four girls lovehotel ...... keepssecret two boyfriends went boys room christmas sakura toru friends school days although toru married misaki sakura affair toru sachi taku friends keep relationships sex friends n't like sex love father lovehotel owner watches many lovers bad relationships four girls lovehotels ...... keepssecret two boyfriends went boys room christmas sakura toru friends school days although toru married misaki sakura affair toru sachi taku friends keep relationships sex friends n't like sex love father lovehotels owner watches many lovers bad relationships\"\n        ],\n        \"semantic_type\": \"\",\n        \"description\": \"\"\n      }\n    },\n    {\n      \"column\": \"input\",\n      \"properties\": {\n        \"dtype\": \"string\",\n        \"num_unique_values\": 1,\n        \"samples\": [\n          \" Lovehotels (2006)  four girls lovehotel ...... keepssecret two boyfriends went boys room christmas sakura toru friends school days although toru married misaki sakura affair toru sachi taku friends keep relationships sex friends n't like sex love father lovehotel owner watches many lovers bad relationships four girls lovehotels ...... keepssecret two boyfriends went boys room christmas sakura toru friends school days although toru married misaki sakura affair toru sachi taku friends keep relationships sex friends n't like sex love father lovehotels owner watches many lovers bad relationships\"\n        ],\n        \"semantic_type\": \"\",\n        \"description\": \"\"\n      }\n    }\n  ]\n}"
            }
          },
          "metadata": {},
          "execution_count": 30
        }
      ],
      "source": [
        "train_data.sample()"
      ]
    },
    {
      "cell_type": "markdown",
      "metadata": {
        "id": "D4aCVWHzqwx0"
      },
      "source": [
        "## ALL DATA"
      ]
    },
    {
      "cell_type": "code",
      "execution_count": 31,
      "metadata": {
        "id": "E3nEpZtYrAl4"
      },
      "outputs": [],
      "source": [
        "all_text = pd.concat([train_data['input'], df_test['input']])"
      ]
    },
    {
      "cell_type": "code",
      "execution_count": 32,
      "metadata": {
        "id": "VGwqbpoJrABp",
        "colab": {
          "base_uri": "https://localhost:8080/"
        },
        "outputId": "9f45d1c4-5cb7-4998-bf15-a879ccb89953"
      },
      "outputs": [
        {
          "output_type": "execute_result",
          "data": {
            "text/plain": [
              "(108414,)"
            ]
          },
          "metadata": {},
          "execution_count": 32
        }
      ],
      "source": [
        "all_text.shape"
      ]
    },
    {
      "cell_type": "markdown",
      "metadata": {
        "id": "UMax6r8yrM3b"
      },
      "source": [
        "## TF-IDF Vectorizer"
      ]
    },
    {
      "cell_type": "code",
      "execution_count": 33,
      "metadata": {
        "id": "RaSeBDyCrMGx"
      },
      "outputs": [],
      "source": [
        "tfidf = TfidfVectorizer(max_features=35000, ngram_range=(1,2)) #consiedering unigrams and bigrams\n",
        "tfidf.fit(all_text)\n",
        "\n",
        "X_train_vec = tfidf.transform(train_data['input'])\n",
        "X_test_vec = tfidf.transform(df_test['input'])"
      ]
    },
    {
      "cell_type": "markdown",
      "metadata": {
        "id": "7mssJzUjsPIy"
      },
      "source": [
        "## Encode Labels"
      ]
    },
    {
      "cell_type": "code",
      "execution_count": 34,
      "metadata": {
        "id": "yqSvch7UrrYz"
      },
      "outputs": [],
      "source": [
        "encoder = LabelEncoder()\n",
        "y_train_enc = encoder.fit_transform(train_data['genre'])\n",
        "y_test_enc = encoder.fit_transform(df_test['genre'])"
      ]
    },
    {
      "cell_type": "markdown",
      "metadata": {
        "id": "QFtyfJ62dnOz"
      },
      "source": [
        "## Modelling Data"
      ]
    },
    {
      "cell_type": "markdown",
      "metadata": {
        "id": "HiyKd8fAsvmS"
      },
      "source": [
        "### Randomizing the data"
      ]
    },
    {
      "cell_type": "code",
      "execution_count": 35,
      "metadata": {
        "id": "G6xaDMPPs5Uk"
      },
      "outputs": [],
      "source": [
        "sampler = RandomOverSampler(random_state=50)\n",
        "X_train_resampled, y_train_resampled = sampler.fit_resample(X_train_vec, y_train_enc)"
      ]
    },
    {
      "cell_type": "markdown",
      "metadata": {
        "id": "HDgL6r82tNVd"
      },
      "source": [
        "### Modelling"
      ]
    },
    {
      "cell_type": "code",
      "execution_count": 36,
      "metadata": {
        "id": "LvS74ybGtORI"
      },
      "outputs": [],
      "source": [
        "mnb = MultinomialNB(alpha=0.5)\n",
        "bnb = BernoulliNB()\n",
        "lgc = LogisticRegression(solver=\"sag\", C=0.5, max_iter=500, random_state=50, tol=0.1, n_jobs=5)\n",
        "svc = LinearSVC()"
      ]
    },
    {
      "cell_type": "markdown",
      "metadata": {
        "id": "TwtHN_eUtshC"
      },
      "source": [
        "### Logistic Regression"
      ]
    },
    {
      "cell_type": "code",
      "execution_count": 37,
      "metadata": {
        "id": "zZzKWgvXtuH0",
        "colab": {
          "base_uri": "https://localhost:8080/"
        },
        "outputId": "bedcefa4-b019-4f3f-d083-856e8352e38f"
      },
      "outputs": [
        {
          "output_type": "execute_result",
          "data": {
            "text/plain": [
              "0.5589667896678967"
            ]
          },
          "metadata": {},
          "execution_count": 37
        }
      ],
      "source": [
        "lgc.fit(X_train_resampled, y_train_resampled)\n",
        "lgc.score(X_test_vec, y_test_enc)"
      ]
    },
    {
      "cell_type": "markdown",
      "metadata": {
        "id": "IdSyP7xet7-H"
      },
      "source": [
        "### Support Vector Machine"
      ]
    },
    {
      "cell_type": "code",
      "execution_count": 38,
      "metadata": {
        "colab": {
          "base_uri": "https://localhost:8080/"
        },
        "id": "gkcMC_vkt_pO",
        "outputId": "7b8fd2de-fa6f-4c01-dd9f-06337ff18091"
      },
      "outputs": [
        {
          "output_type": "execute_result",
          "data": {
            "text/plain": [
              "0.5462361623616236"
            ]
          },
          "metadata": {},
          "execution_count": 38
        }
      ],
      "source": [
        "svc.fit(X_train_resampled, y_train_resampled)\n",
        "svc.score(X_test_vec, y_test_enc)"
      ]
    },
    {
      "cell_type": "markdown",
      "metadata": {
        "id": "YDpCK77VutY_"
      },
      "source": [
        "### Bernoulli Naive Bayes"
      ]
    },
    {
      "cell_type": "code",
      "execution_count": 39,
      "metadata": {
        "id": "B6EH4UDtuzO2",
        "colab": {
          "base_uri": "https://localhost:8080/"
        },
        "outputId": "0c0a8137-a163-46fa-aa23-ee36516ed4c5"
      },
      "outputs": [
        {
          "output_type": "execute_result",
          "data": {
            "text/plain": [
              "0.5624723247232473"
            ]
          },
          "metadata": {},
          "execution_count": 39
        }
      ],
      "source": [
        "bnb.fit(X_train_resampled, y_train_resampled)\n",
        "bnb.score(X_test_vec, y_test_enc)"
      ]
    },
    {
      "cell_type": "markdown",
      "metadata": {
        "id": "VHC9oiUFu_Yq"
      },
      "source": [
        "### Multinomial Naive Bayes"
      ]
    },
    {
      "cell_type": "code",
      "execution_count": 40,
      "metadata": {
        "id": "MZXN355tvB3h",
        "colab": {
          "base_uri": "https://localhost:8080/"
        },
        "outputId": "85e7248a-b2e1-44a0-fc59-d27e9cb44b53"
      },
      "outputs": [
        {
          "output_type": "execute_result",
          "data": {
            "text/plain": [
              "0.5532287822878229"
            ]
          },
          "metadata": {},
          "execution_count": 40
        }
      ],
      "source": [
        "mnb.fit(X_train_resampled, y_train_resampled)\n",
        "mnb.score(X_test_vec, y_test_enc)"
      ]
    },
    {
      "cell_type": "markdown",
      "metadata": {
        "id": "2Auwwp4YeoxA"
      },
      "source": [
        "## Accuracy Metrics"
      ]
    },
    {
      "cell_type": "markdown",
      "metadata": {
        "id": "Gzihyu80er3e"
      },
      "source": [
        "### Accuracy Score\n",
        "\n",
        "Accuracy score is the most basic metric for evaluating classification models. It represents the percentage of correctly classified instances out of the total number of instances.\n",
        "\n",
        "A higher accuracy score generally indicates a better-performing model, but it can be misleading in cases of imbalanced datasets (where some classes have significantly more instances than others)."
      ]
    },
    {
      "cell_type": "code",
      "execution_count": 41,
      "metadata": {
        "id": "Yfgf9lNAyrXR",
        "colab": {
          "base_uri": "https://localhost:8080/"
        },
        "outputId": "f8c54701-14c2-4c03-e25d-1c610d5b10c8"
      },
      "outputs": [
        {
          "output_type": "stream",
          "name": "stdout",
          "text": [
            "Logostic Regression: \n",
            "Training Accuracy:  0.955151802062843\n",
            "Testing Accuracy:  0.5589667896678967\n",
            "\n",
            "Bernoulli Naive Bayes: \n",
            "Training Accuracy:  0.9386234835437803\n",
            "Testing Accuracy:  0.5624723247232473\n",
            "\n",
            "Multinomial Naive Bayes: \n",
            "Training Accuracy:  0.9442934449913073\n",
            "Testing Accuracy:  0.5532287822878229\n",
            "\n",
            "Support Vector Machine: \n",
            "Training Accuracy:  0.9947952801107873\n",
            "Testing Accuracy:  0.5462361623616236\n"
          ]
        }
      ],
      "source": [
        "ypred_test_lgc = lgc.predict(X_test_vec)\n",
        "ypred_train_lgc = lgc.predict(X_train_resampled)\n",
        "\n",
        "ypred_test_bnb = bnb.predict(X_test_vec)\n",
        "ypred_train_bnb = bnb.predict(X_train_resampled)\n",
        "\n",
        "ypred_test_mnb = mnb.predict(X_test_vec)\n",
        "ypred_train_mnb = mnb.predict(X_train_resampled)\n",
        "\n",
        "ypred_test_svc = svc.predict(X_test_vec)\n",
        "ypred_train_svc = svc.predict(X_train_resampled)\n",
        "\n",
        "print(\"Logostic Regression: \")\n",
        "print(\"Training Accuracy: \", accuracy_score(y_train_resampled, ypred_train_lgc))\n",
        "print(\"Testing Accuracy: \", accuracy_score(y_test_enc, ypred_test_lgc))\n",
        "\n",
        "print(\"\\nBernoulli Naive Bayes: \")\n",
        "print(\"Training Accuracy: \", accuracy_score(y_train_resampled, ypred_train_bnb))\n",
        "print(\"Testing Accuracy: \", accuracy_score(y_test_enc, ypred_test_bnb))\n",
        "\n",
        "print(\"\\nMultinomial Naive Bayes: \")\n",
        "print(\"Training Accuracy: \", accuracy_score(y_train_resampled, ypred_train_mnb))\n",
        "print(\"Testing Accuracy: \", accuracy_score(y_test_enc, ypred_test_mnb))\n",
        "\n",
        "print(\"\\nSupport Vector Machine: \")\n",
        "print(\"Training Accuracy: \", accuracy_score(y_train_resampled, ypred_train_svc))\n",
        "print(\"Testing Accuracy: \", accuracy_score(y_test_enc, ypred_test_svc))"
      ]
    },
    {
      "cell_type": "markdown",
      "metadata": {
        "id": "at4v7pxNe5Si"
      },
      "source": [
        "### Classification Report\n",
        "\n",
        "A classification report provides a more comprehensive evaluation of a classification model's performance by presenting precision, recall, F1-score, and support for each class.\n",
        "\n",
        "Components:\n",
        "- Precision: The ratio of correctly predicted positive observations to the total predicted positives. It measures how well the model avoids false positives.\n",
        "- Recall: The ratio of correctly predicted positive observations to all actual positives. It measures how well the model identifies all positive instances.\n",
        "- F1-Score: The harmonic mean of precision and recall, providing a balanced measure of the model's performance.\n",
        "- Support: The number of actual instances in each class.\n",
        "\n",
        "The classification report gives a detailed view of how well the model is performing for each class, allowing you to identify potential weaknesses in specific areas."
      ]
    },
    {
      "cell_type": "code",
      "execution_count": 42,
      "metadata": {
        "id": "ggHK8T6We8Cm",
        "colab": {
          "base_uri": "https://localhost:8080/"
        },
        "outputId": "6a62f521-4646-407c-9daa-97902d71f49f"
      },
      "outputs": [
        {
          "output_type": "stream",
          "name": "stdout",
          "text": [
            "              precision    recall  f1-score   support\n",
            "\n",
            "           0       0.35      0.50      0.41      1314\n",
            "           1       0.47      0.62      0.53       590\n",
            "           2       0.28      0.32      0.30       775\n",
            "           3       0.28      0.28      0.28       498\n",
            "           4       0.10      0.10      0.10       264\n",
            "           5       0.60      0.56      0.58      7446\n",
            "           6       0.18      0.27      0.22       505\n",
            "           7       0.78      0.70      0.74     13096\n",
            "           8       0.69      0.54      0.61     13612\n",
            "           9       0.22      0.31      0.26       783\n",
            "          10       0.21      0.21      0.21       322\n",
            "          11       0.70      0.71      0.71       193\n",
            "          12       0.11      0.14      0.12       243\n",
            "          13       0.59      0.66      0.63      2204\n",
            "          14       0.46      0.71      0.56       731\n",
            "          15       0.20      0.23      0.21       276\n",
            "          16       0.18      0.14      0.16       318\n",
            "          17       0.34      0.32      0.33       181\n",
            "          18       0.34      0.50      0.40       883\n",
            "          19       0.19      0.39      0.26       672\n",
            "          20       0.39      0.52      0.44       646\n",
            "          21       0.44      0.47      0.46      5072\n",
            "          22       0.42      0.65      0.51       431\n",
            "          23       0.43      0.53      0.48       391\n",
            "          24       0.26      0.35      0.30      1590\n",
            "          25       0.24      0.52      0.33       132\n",
            "          26       0.80      0.90      0.84      1032\n",
            "\n",
            "    accuracy                           0.56     54200\n",
            "   macro avg       0.38      0.45      0.41     54200\n",
            "weighted avg       0.59      0.56      0.57     54200\n",
            "\n"
          ]
        }
      ],
      "source": [
        "from sklearn.metrics import classification_report\n",
        "\n",
        "report = classification_report(y_test_enc, ypred_test_lgc)\n",
        "print(report)"
      ]
    },
    {
      "cell_type": "markdown",
      "metadata": {
        "id": "n8F8yiPffBDu"
      },
      "source": [
        "### Confusion Matrix\n",
        "\n",
        "A confusion matrix is a table that visualizes the performance of a classification model by showing the counts of true positives, true negatives, false positives, and false negatives for each class.\n",
        "\n",
        "Structure:\n",
        "- True Positives (TP): Correctly predicted positive instances.\n",
        "- True Negatives (TN): Correctly predicted negative instances.\n",
        "- False Positives (FP): Incorrectly predicted positive instances (Type I error).\n",
        "- False Negatives (FN): Incorrectly predicted negative instances (Type II error).\n",
        "\n",
        "The confusion matrix helps you understand which classes the model is confusing with each other and the types of errors it's making. It's particularly useful for identifying patterns in misclassifications."
      ]
    },
    {
      "cell_type": "code",
      "execution_count": 43,
      "metadata": {
        "id": "M1PKunEvfElM",
        "colab": {
          "base_uri": "https://localhost:8080/",
          "height": 718
        },
        "outputId": "262dad1f-df8c-4eb1-ffe9-eaecc2356c1a"
      },
      "outputs": [
        {
          "output_type": "display_data",
          "data": {
            "text/plain": [
              "<Figure size 1000x800 with 2 Axes>"
            ],
            "image/png": "[encoded data removed]"
          },
          "metadata": {}
        }
      ],
      "source": [
        "from sklearn.metrics import confusion_matrix\n",
        "import seaborn as sns\n",
        "import matplotlib.pyplot as plt\n",
        "\n",
        "cm = confusion_matrix(y_test_enc, ypred_test_lgc)\n",
        "plt.figure(figsize=(10, 8))\n",
        "sns.heatmap(cm, annot=True, fmt='d')\n",
        "plt.xlabel('Predicted')\n",
        "plt.ylabel('True')\n",
        "plt.title('Confusion Matrix')\n",
        "plt.show()"
      ]
    },
    {
      "cell_type": "markdown",
      "metadata": {
        "id": "hRGDRG_J0Ggn"
      },
      "source": [
        "# Movie Genre Prediction using Logistic Regression and TF-IDF Vectorizer on Example Text"
      ]
    },
    {
      "cell_type": "code",
      "execution_count": 45,
      "metadata": {
        "id": "36zezvDyYqQq",
        "colab": {
          "base_uri": "https://localhost:8080/"
        },
        "outputId": "333124b9-deb0-465f-ce0e-879e7cc86a0b"
      },
      "outputs": [
        {
          "output_type": "stream",
          "name": "stdout",
          "text": [
            "Warning: Looks like you're using an outdated `kagglehub` version (installed: 0.3.7), please consider upgrading to the latest version (0.3.8).\n",
            "Path to dataset files: /root/.cache/kagglehub/datasets/hijest/genre-classification-dataset-imdb/versions/1\n"
          ]
        },
        {
          "output_type": "stream",
          "name": "stderr",
          "text": [
            "[nltk_data] Downloading package punkt to /root/nltk_data...\n",
            "[nltk_data]   Package punkt is already up-to-date!\n",
            "[nltk_data] Downloading package punkt_tab to /root/nltk_data...\n",
            "[nltk_data]   Package punkt_tab is already up-to-date!\n",
            "[nltk_data] Downloading package stopwords to /root/nltk_data...\n",
            "[nltk_data]   Package stopwords is already up-to-date!\n"
          ]
        },
        {
          "output_type": "stream",
          "name": "stdout",
          "text": [
            "Text: a boy and a girl fall in love\n",
            "Predicted Genre:  romance \n",
            "\n",
            "Text: a thrilling chase and a tense fight\n",
            "Predicted Genre:  action \n",
            "\n",
            "Text: animals grazing in a field\n",
            "Predicted Genre:  documentary \n",
            "\n"
          ]
        }
      ],
      "source": [
        "import pandas as pd\n",
        "import numpy as np\n",
        "import re\n",
        "import string\n",
        "from nltk.corpus import stopwords\n",
        "from nltk.tokenize import word_tokenize\n",
        "from sklearn.metrics import accuracy_score\n",
        "from sklearn.model_selection import train_test_split\n",
        "from sklearn.feature_extraction.text import TfidfVectorizer\n",
        "from sklearn.linear_model import LogisticRegression\n",
        "from sklearn.pipeline import Pipeline\n",
        "from sklearn.preprocessing import LabelEncoder\n",
        "\n",
        "#Load Data\n",
        "import kagglehub\n",
        "path = kagglehub.dataset_download(\"hijest/genre-classification-dataset-imdb\")\n",
        "\n",
        "print(\"Path to dataset files:\", path)\n",
        "\n",
        "train_data = pd.read_csv(path + \"/Genre Classification Dataset/train_data.txt\", sep=':::', header=None, names=['id','title','genre','description'], engine='python')\n",
        "test_data = pd.read_csv(path + \"/Genre Classification Dataset/test_data_solution.txt\", sep=':::', header=None, names=['id','title','genre','description'], engine='python')\n",
        "\n",
        "#Preprocessing Data\n",
        "import nltk\n",
        "nltk.download('punkt')\n",
        "nltk.download('punkt_tab')\n",
        "nltk.download('stopwords')\n",
        "\n",
        "def preprocess_text(text):\n",
        "    text = text.lower()\n",
        "\n",
        "    #Remove Numbers\n",
        "    text = re.sub(r'\\d+', '', text)\n",
        "\n",
        "    #Remove punctuation\n",
        "    text = text.translate(str.maketrans('', '', string.punctuation))\n",
        "\n",
        "    #Tokenize Text\n",
        "    tokens = word_tokenize(text)\n",
        "\n",
        "    #Removing stopwords\n",
        "    stop_words = set(stopwords.words('english'))\n",
        "    filtered_tokens = [word for word in tokens if word not in stop_words]\n",
        "\n",
        "    #return preprocessed text as a single string\n",
        "    return ' '.join(filtered_tokens)\n",
        "\n",
        "train_data['processed_description'] = train_data['description'].apply(preprocess_text)\n",
        "test_data['processed_description'] = test_data['description'].apply(preprocess_text)\n",
        "\n",
        "#Prepare data for classification\n",
        "X_train = train_data['processed_description']\n",
        "y_train = train_data['genre']\n",
        "X_test = test_data['processed_description']\n",
        "y_test = test_data['genre']\n",
        "\n",
        "#Encode Labels\n",
        "label_encoder = LabelEncoder()\n",
        "y_train_encoded = label_encoder.fit_transform(y_train)\n",
        "y_test_encoded = label_encoder.transform(y_test)\n",
        "\n",
        "#Initialize TF-IDF Vectorizer and Logistic Regression Classifier\n",
        "pipeline = Pipeline([\n",
        "    ('tfidf', TfidfVectorizer()),\n",
        "    ('clf', LogisticRegression(max_iter=1000))\n",
        "])\n",
        "\n",
        "#Train the model\n",
        "pipeline.fit(X_train, y_train_encoded)\n",
        "\n",
        "#define example input values\n",
        "example_texts = [\n",
        "    \"a boy and a girl fall in love\",\n",
        "    \"a thrilling chase and a tense fight\",\n",
        "    \"animals grazing in a field\"\n",
        "]\n",
        "\n",
        "#Test with Example Inputs\n",
        "preprocessed_texts = [preprocess_text(text) for text in example_texts]\n",
        "predictions_encoded = pipeline.predict(preprocessed_texts)\n",
        "predictions = label_encoder.inverse_transform(predictions_encoded)\n",
        "\n",
        "#output predictions\n",
        "for text, prediction in zip(example_texts, predictions):\n",
        "    print(f\"Text: {text}\\nPredicted Genre: {prediction}\\n\")"
      ]
    }
  ],
  "metadata": {
    "colab": {
      "provenance": [],
      "authorship_tag": "ABX9TyNRiAQ/M8cv/7X3OUFlLmK6",
      "include_colab_link": true
    },
    "kernelspec": {
      "display_name": "Python 3",
      "name": "python3"
    },
    "language_info": {
      "name": "python"
    }
  },
  "nbformat": 4,
  "nbformat_minor": 0
}